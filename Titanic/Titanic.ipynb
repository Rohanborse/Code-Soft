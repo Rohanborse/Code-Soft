{
 "cells": [
  {
   "cell_type": "markdown",
   "metadata": {},
   "source": [
    "## **import libraries**"
   ]
  },
  {
   "cell_type": "code",
   "execution_count": 1,
   "metadata": {
    "execution": {
     "iopub.execute_input": "2023-12-23T19:15:37.052331Z",
     "iopub.status.busy": "2023-12-23T19:15:37.051825Z",
     "iopub.status.idle": "2023-12-23T19:15:37.061717Z",
     "shell.execute_reply": "2023-12-23T19:15:37.060213Z",
     "shell.execute_reply.started": "2023-12-23T19:15:37.052293Z"
    }
   },
   "outputs": [],
   "source": [
    "import numpy as np\n",
    "import pandas as pd\n",
    "import matplotlib.pyplot as plt\n",
    "import seaborn as sns\n",
    "\n",
    "from sklearn.preprocessing import MinMaxScaler\n",
    "from sklearn.model_selection import train_test_split\n",
    "from sklearn.linear_model import LogisticRegression\n",
    "from sklearn.tree import DecisionTreeClassifier\n",
    "from sklearn.ensemble import RandomForestClassifier, VotingClassifier, AdaBoostClassifier, BaggingClassifier\n",
    "from sklearn.svm import SVC\n",
    "from sklearn.naive_bayes import GaussianNB\n",
    "import xgboost as xgb\n",
    "\n",
    "from sklearn.metrics import confusion_matrix , classification_report ,accuracy_score"
   ]
  },
  {
   "cell_type": "markdown",
   "metadata": {},
   "source": [
    "## **EDA**"
   ]
  },
  {
   "cell_type": "code",
   "execution_count": 2,
   "metadata": {
    "execution": {
     "iopub.execute_input": "2023-12-23T18:30:30.077127Z",
     "iopub.status.busy": "2023-12-23T18:30:30.076718Z",
     "iopub.status.idle": "2023-12-23T18:30:30.134826Z",
     "shell.execute_reply": "2023-12-23T18:30:30.133448Z",
     "shell.execute_reply.started": "2023-12-23T18:30:30.077092Z"
    }
   },
   "outputs": [
    {
     "data": {
      "text/html": [
       "<div>\n",
       "<style scoped>\n",
       "    .dataframe tbody tr th:only-of-type {\n",
       "        vertical-align: middle;\n",
       "    }\n",
       "\n",
       "    .dataframe tbody tr th {\n",
       "        vertical-align: top;\n",
       "    }\n",
       "\n",
       "    .dataframe thead th {\n",
       "        text-align: right;\n",
       "    }\n",
       "</style>\n",
       "<table border=\"1\" class=\"dataframe\">\n",
       "  <thead>\n",
       "    <tr style=\"text-align: right;\">\n",
       "      <th></th>\n",
       "      <th>PassengerId</th>\n",
       "      <th>Survived</th>\n",
       "      <th>Pclass</th>\n",
       "      <th>Name</th>\n",
       "      <th>Sex</th>\n",
       "      <th>Age</th>\n",
       "      <th>SibSp</th>\n",
       "      <th>Parch</th>\n",
       "      <th>Ticket</th>\n",
       "      <th>Fare</th>\n",
       "      <th>Cabin</th>\n",
       "      <th>Embarked</th>\n",
       "    </tr>\n",
       "  </thead>\n",
       "  <tbody>\n",
       "    <tr>\n",
       "      <th>0</th>\n",
       "      <td>1</td>\n",
       "      <td>0</td>\n",
       "      <td>3</td>\n",
       "      <td>Braund, Mr. Owen Harris</td>\n",
       "      <td>male</td>\n",
       "      <td>22.0</td>\n",
       "      <td>1</td>\n",
       "      <td>0</td>\n",
       "      <td>A/5 21171</td>\n",
       "      <td>7.2500</td>\n",
       "      <td>NaN</td>\n",
       "      <td>S</td>\n",
       "    </tr>\n",
       "    <tr>\n",
       "      <th>1</th>\n",
       "      <td>2</td>\n",
       "      <td>1</td>\n",
       "      <td>1</td>\n",
       "      <td>Cumings, Mrs. John Bradley (Florence Briggs Th...</td>\n",
       "      <td>female</td>\n",
       "      <td>38.0</td>\n",
       "      <td>1</td>\n",
       "      <td>0</td>\n",
       "      <td>PC 17599</td>\n",
       "      <td>71.2833</td>\n",
       "      <td>C85</td>\n",
       "      <td>C</td>\n",
       "    </tr>\n",
       "    <tr>\n",
       "      <th>2</th>\n",
       "      <td>3</td>\n",
       "      <td>1</td>\n",
       "      <td>3</td>\n",
       "      <td>Heikkinen, Miss. Laina</td>\n",
       "      <td>female</td>\n",
       "      <td>26.0</td>\n",
       "      <td>0</td>\n",
       "      <td>0</td>\n",
       "      <td>STON/O2. 3101282</td>\n",
       "      <td>7.9250</td>\n",
       "      <td>NaN</td>\n",
       "      <td>S</td>\n",
       "    </tr>\n",
       "    <tr>\n",
       "      <th>3</th>\n",
       "      <td>4</td>\n",
       "      <td>1</td>\n",
       "      <td>1</td>\n",
       "      <td>Futrelle, Mrs. Jacques Heath (Lily May Peel)</td>\n",
       "      <td>female</td>\n",
       "      <td>35.0</td>\n",
       "      <td>1</td>\n",
       "      <td>0</td>\n",
       "      <td>113803</td>\n",
       "      <td>53.1000</td>\n",
       "      <td>C123</td>\n",
       "      <td>S</td>\n",
       "    </tr>\n",
       "    <tr>\n",
       "      <th>4</th>\n",
       "      <td>5</td>\n",
       "      <td>0</td>\n",
       "      <td>3</td>\n",
       "      <td>Allen, Mr. William Henry</td>\n",
       "      <td>male</td>\n",
       "      <td>35.0</td>\n",
       "      <td>0</td>\n",
       "      <td>0</td>\n",
       "      <td>373450</td>\n",
       "      <td>8.0500</td>\n",
       "      <td>NaN</td>\n",
       "      <td>S</td>\n",
       "    </tr>\n",
       "  </tbody>\n",
       "</table>\n",
       "</div>"
      ],
      "text/plain": [
       "   PassengerId  Survived  Pclass  \\\n",
       "0            1         0       3   \n",
       "1            2         1       1   \n",
       "2            3         1       3   \n",
       "3            4         1       1   \n",
       "4            5         0       3   \n",
       "\n",
       "                                                Name     Sex   Age  SibSp  \\\n",
       "0                            Braund, Mr. Owen Harris    male  22.0      1   \n",
       "1  Cumings, Mrs. John Bradley (Florence Briggs Th...  female  38.0      1   \n",
       "2                             Heikkinen, Miss. Laina  female  26.0      0   \n",
       "3       Futrelle, Mrs. Jacques Heath (Lily May Peel)  female  35.0      1   \n",
       "4                           Allen, Mr. William Henry    male  35.0      0   \n",
       "\n",
       "   Parch            Ticket     Fare Cabin Embarked  \n",
       "0      0         A/5 21171   7.2500   NaN        S  \n",
       "1      0          PC 17599  71.2833   C85        C  \n",
       "2      0  STON/O2. 3101282   7.9250   NaN        S  \n",
       "3      0            113803  53.1000  C123        S  \n",
       "4      0            373450   8.0500   NaN        S  "
      ]
     },
     "execution_count": 2,
     "metadata": {},
     "output_type": "execute_result"
    }
   ],
   "source": [
    "titanic=pd.read_csv(\"Titanic-Dataset.csv\")\n",
    "titanic.head()"
   ]
  },
  {
   "cell_type": "code",
   "execution_count": 3,
   "metadata": {
    "execution": {
     "iopub.execute_input": "2023-12-23T18:30:30.138006Z",
     "iopub.status.busy": "2023-12-23T18:30:30.137613Z",
     "iopub.status.idle": "2023-12-23T18:30:30.159017Z",
     "shell.execute_reply": "2023-12-23T18:30:30.157041Z",
     "shell.execute_reply.started": "2023-12-23T18:30:30.137973Z"
    }
   },
   "outputs": [
    {
     "name": "stdout",
     "output_type": "stream",
     "text": [
      "<class 'pandas.core.frame.DataFrame'>\n",
      "RangeIndex: 891 entries, 0 to 890\n",
      "Data columns (total 12 columns):\n",
      " #   Column       Non-Null Count  Dtype  \n",
      "---  ------       --------------  -----  \n",
      " 0   PassengerId  891 non-null    int64  \n",
      " 1   Survived     891 non-null    int64  \n",
      " 2   Pclass       891 non-null    int64  \n",
      " 3   Name         891 non-null    object \n",
      " 4   Sex          891 non-null    object \n",
      " 5   Age          714 non-null    float64\n",
      " 6   SibSp        891 non-null    int64  \n",
      " 7   Parch        891 non-null    int64  \n",
      " 8   Ticket       891 non-null    object \n",
      " 9   Fare         891 non-null    float64\n",
      " 10  Cabin        204 non-null    object \n",
      " 11  Embarked     889 non-null    object \n",
      "dtypes: float64(2), int64(5), object(5)\n",
      "memory usage: 83.7+ KB\n"
     ]
    }
   ],
   "source": [
    "titanic.info()"
   ]
  },
  {
   "cell_type": "code",
   "execution_count": 4,
   "metadata": {
    "execution": {
     "iopub.execute_input": "2023-12-23T18:30:30.161677Z",
     "iopub.status.busy": "2023-12-23T18:30:30.161121Z",
     "iopub.status.idle": "2023-12-23T18:30:30.223798Z",
     "shell.execute_reply": "2023-12-23T18:30:30.222445Z",
     "shell.execute_reply.started": "2023-12-23T18:30:30.161628Z"
    }
   },
   "outputs": [
    {
     "data": {
      "text/html": [
       "<div>\n",
       "<style scoped>\n",
       "    .dataframe tbody tr th:only-of-type {\n",
       "        vertical-align: middle;\n",
       "    }\n",
       "\n",
       "    .dataframe tbody tr th {\n",
       "        vertical-align: top;\n",
       "    }\n",
       "\n",
       "    .dataframe thead th {\n",
       "        text-align: right;\n",
       "    }\n",
       "</style>\n",
       "<table border=\"1\" class=\"dataframe\">\n",
       "  <thead>\n",
       "    <tr style=\"text-align: right;\">\n",
       "      <th></th>\n",
       "      <th>PassengerId</th>\n",
       "      <th>Survived</th>\n",
       "      <th>Pclass</th>\n",
       "      <th>Name</th>\n",
       "      <th>Sex</th>\n",
       "      <th>Age</th>\n",
       "      <th>SibSp</th>\n",
       "      <th>Parch</th>\n",
       "      <th>Ticket</th>\n",
       "      <th>Fare</th>\n",
       "      <th>Cabin</th>\n",
       "      <th>Embarked</th>\n",
       "    </tr>\n",
       "  </thead>\n",
       "  <tbody>\n",
       "    <tr>\n",
       "      <th>count</th>\n",
       "      <td>891.000000</td>\n",
       "      <td>891.000000</td>\n",
       "      <td>891.000000</td>\n",
       "      <td>891</td>\n",
       "      <td>891</td>\n",
       "      <td>714.000000</td>\n",
       "      <td>891.000000</td>\n",
       "      <td>891.000000</td>\n",
       "      <td>891</td>\n",
       "      <td>891.000000</td>\n",
       "      <td>204</td>\n",
       "      <td>889</td>\n",
       "    </tr>\n",
       "    <tr>\n",
       "      <th>unique</th>\n",
       "      <td>NaN</td>\n",
       "      <td>NaN</td>\n",
       "      <td>NaN</td>\n",
       "      <td>891</td>\n",
       "      <td>2</td>\n",
       "      <td>NaN</td>\n",
       "      <td>NaN</td>\n",
       "      <td>NaN</td>\n",
       "      <td>681</td>\n",
       "      <td>NaN</td>\n",
       "      <td>147</td>\n",
       "      <td>3</td>\n",
       "    </tr>\n",
       "    <tr>\n",
       "      <th>top</th>\n",
       "      <td>NaN</td>\n",
       "      <td>NaN</td>\n",
       "      <td>NaN</td>\n",
       "      <td>Braund, Mr. Owen Harris</td>\n",
       "      <td>male</td>\n",
       "      <td>NaN</td>\n",
       "      <td>NaN</td>\n",
       "      <td>NaN</td>\n",
       "      <td>347082</td>\n",
       "      <td>NaN</td>\n",
       "      <td>B96 B98</td>\n",
       "      <td>S</td>\n",
       "    </tr>\n",
       "    <tr>\n",
       "      <th>freq</th>\n",
       "      <td>NaN</td>\n",
       "      <td>NaN</td>\n",
       "      <td>NaN</td>\n",
       "      <td>1</td>\n",
       "      <td>577</td>\n",
       "      <td>NaN</td>\n",
       "      <td>NaN</td>\n",
       "      <td>NaN</td>\n",
       "      <td>7</td>\n",
       "      <td>NaN</td>\n",
       "      <td>4</td>\n",
       "      <td>644</td>\n",
       "    </tr>\n",
       "    <tr>\n",
       "      <th>mean</th>\n",
       "      <td>446.000000</td>\n",
       "      <td>0.383838</td>\n",
       "      <td>2.308642</td>\n",
       "      <td>NaN</td>\n",
       "      <td>NaN</td>\n",
       "      <td>29.699118</td>\n",
       "      <td>0.523008</td>\n",
       "      <td>0.381594</td>\n",
       "      <td>NaN</td>\n",
       "      <td>32.204208</td>\n",
       "      <td>NaN</td>\n",
       "      <td>NaN</td>\n",
       "    </tr>\n",
       "    <tr>\n",
       "      <th>std</th>\n",
       "      <td>257.353842</td>\n",
       "      <td>0.486592</td>\n",
       "      <td>0.836071</td>\n",
       "      <td>NaN</td>\n",
       "      <td>NaN</td>\n",
       "      <td>14.526497</td>\n",
       "      <td>1.102743</td>\n",
       "      <td>0.806057</td>\n",
       "      <td>NaN</td>\n",
       "      <td>49.693429</td>\n",
       "      <td>NaN</td>\n",
       "      <td>NaN</td>\n",
       "    </tr>\n",
       "    <tr>\n",
       "      <th>min</th>\n",
       "      <td>1.000000</td>\n",
       "      <td>0.000000</td>\n",
       "      <td>1.000000</td>\n",
       "      <td>NaN</td>\n",
       "      <td>NaN</td>\n",
       "      <td>0.420000</td>\n",
       "      <td>0.000000</td>\n",
       "      <td>0.000000</td>\n",
       "      <td>NaN</td>\n",
       "      <td>0.000000</td>\n",
       "      <td>NaN</td>\n",
       "      <td>NaN</td>\n",
       "    </tr>\n",
       "    <tr>\n",
       "      <th>25%</th>\n",
       "      <td>223.500000</td>\n",
       "      <td>0.000000</td>\n",
       "      <td>2.000000</td>\n",
       "      <td>NaN</td>\n",
       "      <td>NaN</td>\n",
       "      <td>20.125000</td>\n",
       "      <td>0.000000</td>\n",
       "      <td>0.000000</td>\n",
       "      <td>NaN</td>\n",
       "      <td>7.910400</td>\n",
       "      <td>NaN</td>\n",
       "      <td>NaN</td>\n",
       "    </tr>\n",
       "    <tr>\n",
       "      <th>50%</th>\n",
       "      <td>446.000000</td>\n",
       "      <td>0.000000</td>\n",
       "      <td>3.000000</td>\n",
       "      <td>NaN</td>\n",
       "      <td>NaN</td>\n",
       "      <td>28.000000</td>\n",
       "      <td>0.000000</td>\n",
       "      <td>0.000000</td>\n",
       "      <td>NaN</td>\n",
       "      <td>14.454200</td>\n",
       "      <td>NaN</td>\n",
       "      <td>NaN</td>\n",
       "    </tr>\n",
       "    <tr>\n",
       "      <th>75%</th>\n",
       "      <td>668.500000</td>\n",
       "      <td>1.000000</td>\n",
       "      <td>3.000000</td>\n",
       "      <td>NaN</td>\n",
       "      <td>NaN</td>\n",
       "      <td>38.000000</td>\n",
       "      <td>1.000000</td>\n",
       "      <td>0.000000</td>\n",
       "      <td>NaN</td>\n",
       "      <td>31.000000</td>\n",
       "      <td>NaN</td>\n",
       "      <td>NaN</td>\n",
       "    </tr>\n",
       "    <tr>\n",
       "      <th>max</th>\n",
       "      <td>891.000000</td>\n",
       "      <td>1.000000</td>\n",
       "      <td>3.000000</td>\n",
       "      <td>NaN</td>\n",
       "      <td>NaN</td>\n",
       "      <td>80.000000</td>\n",
       "      <td>8.000000</td>\n",
       "      <td>6.000000</td>\n",
       "      <td>NaN</td>\n",
       "      <td>512.329200</td>\n",
       "      <td>NaN</td>\n",
       "      <td>NaN</td>\n",
       "    </tr>\n",
       "  </tbody>\n",
       "</table>\n",
       "</div>"
      ],
      "text/plain": [
       "        PassengerId    Survived      Pclass                     Name   Sex  \\\n",
       "count    891.000000  891.000000  891.000000                      891   891   \n",
       "unique          NaN         NaN         NaN                      891     2   \n",
       "top             NaN         NaN         NaN  Braund, Mr. Owen Harris  male   \n",
       "freq            NaN         NaN         NaN                        1   577   \n",
       "mean     446.000000    0.383838    2.308642                      NaN   NaN   \n",
       "std      257.353842    0.486592    0.836071                      NaN   NaN   \n",
       "min        1.000000    0.000000    1.000000                      NaN   NaN   \n",
       "25%      223.500000    0.000000    2.000000                      NaN   NaN   \n",
       "50%      446.000000    0.000000    3.000000                      NaN   NaN   \n",
       "75%      668.500000    1.000000    3.000000                      NaN   NaN   \n",
       "max      891.000000    1.000000    3.000000                      NaN   NaN   \n",
       "\n",
       "               Age       SibSp       Parch  Ticket        Fare    Cabin  \\\n",
       "count   714.000000  891.000000  891.000000     891  891.000000      204   \n",
       "unique         NaN         NaN         NaN     681         NaN      147   \n",
       "top            NaN         NaN         NaN  347082         NaN  B96 B98   \n",
       "freq           NaN         NaN         NaN       7         NaN        4   \n",
       "mean     29.699118    0.523008    0.381594     NaN   32.204208      NaN   \n",
       "std      14.526497    1.102743    0.806057     NaN   49.693429      NaN   \n",
       "min       0.420000    0.000000    0.000000     NaN    0.000000      NaN   \n",
       "25%      20.125000    0.000000    0.000000     NaN    7.910400      NaN   \n",
       "50%      28.000000    0.000000    0.000000     NaN   14.454200      NaN   \n",
       "75%      38.000000    1.000000    0.000000     NaN   31.000000      NaN   \n",
       "max      80.000000    8.000000    6.000000     NaN  512.329200      NaN   \n",
       "\n",
       "       Embarked  \n",
       "count       889  \n",
       "unique        3  \n",
       "top           S  \n",
       "freq        644  \n",
       "mean        NaN  \n",
       "std         NaN  \n",
       "min         NaN  \n",
       "25%         NaN  \n",
       "50%         NaN  \n",
       "75%         NaN  \n",
       "max         NaN  "
      ]
     },
     "execution_count": 4,
     "metadata": {},
     "output_type": "execute_result"
    }
   ],
   "source": [
    "titanic.describe(include='all')"
   ]
  },
  {
   "cell_type": "code",
   "execution_count": 5,
   "metadata": {
    "execution": {
     "iopub.execute_input": "2023-12-23T18:30:30.226318Z",
     "iopub.status.busy": "2023-12-23T18:30:30.225802Z",
     "iopub.status.idle": "2023-12-23T18:30:30.238887Z",
     "shell.execute_reply": "2023-12-23T18:30:30.237249Z",
     "shell.execute_reply.started": "2023-12-23T18:30:30.226272Z"
    }
   },
   "outputs": [
    {
     "data": {
      "text/plain": [
       "PassengerId      0\n",
       "Survived         0\n",
       "Pclass           0\n",
       "Name             0\n",
       "Sex              0\n",
       "Age            177\n",
       "SibSp            0\n",
       "Parch            0\n",
       "Ticket           0\n",
       "Fare             0\n",
       "Cabin          687\n",
       "Embarked         2\n",
       "dtype: int64"
      ]
     },
     "execution_count": 5,
     "metadata": {},
     "output_type": "execute_result"
    }
   ],
   "source": [
    "titanic.isna().sum()"
   ]
  },
  {
   "cell_type": "code",
   "execution_count": 6,
   "metadata": {
    "execution": {
     "iopub.execute_input": "2023-12-23T18:30:30.241362Z",
     "iopub.status.busy": "2023-12-23T18:30:30.24085Z",
     "iopub.status.idle": "2023-12-23T18:30:30.255422Z",
     "shell.execute_reply": "2023-12-23T18:30:30.254243Z",
     "shell.execute_reply.started": "2023-12-23T18:30:30.241312Z"
    }
   },
   "outputs": [
    {
     "data": {
      "text/plain": [
       "0"
      ]
     },
     "execution_count": 6,
     "metadata": {},
     "output_type": "execute_result"
    }
   ],
   "source": [
    "titanic.duplicated().sum()"
   ]
  },
  {
   "cell_type": "markdown",
   "metadata": {},
   "source": [
    "## **visualization**"
   ]
  },
  {
   "cell_type": "code",
   "execution_count": 7,
   "metadata": {
    "execution": {
     "iopub.execute_input": "2023-12-23T18:30:30.257167Z",
     "iopub.status.busy": "2023-12-23T18:30:30.256716Z",
     "iopub.status.idle": "2023-12-23T18:30:30.269208Z",
     "shell.execute_reply": "2023-12-23T18:30:30.267848Z",
     "shell.execute_reply.started": "2023-12-23T18:30:30.257132Z"
    }
   },
   "outputs": [
    {
     "data": {
      "text/plain": [
       "Sex\n",
       "male      577\n",
       "female    314\n",
       "Name: count, dtype: int64"
      ]
     },
     "execution_count": 7,
     "metadata": {},
     "output_type": "execute_result"
    }
   ],
   "source": [
    "sex_counts=titanic['Sex'].value_counts()\n",
    "sex_counts"
   ]
  },
  {
   "cell_type": "code",
   "execution_count": 44,
   "metadata": {
    "execution": {
     "iopub.execute_input": "2023-12-23T18:30:30.271045Z",
     "iopub.status.busy": "2023-12-23T18:30:30.270644Z",
     "iopub.status.idle": "2023-12-23T18:30:30.643769Z",
     "shell.execute_reply": "2023-12-23T18:30:30.642425Z",
     "shell.execute_reply.started": "2023-12-23T18:30:30.271012Z"
    }
   },
   "outputs": [
    {
     "data": {
      "image/png": "[encoded data removed]",
      "text/plain": [
       "<Figure size 1200x800 with 1 Axes>"
      ]
     },
     "metadata": {},
     "output_type": "display_data"
    }
   ],
   "source": [
    "plt.figure(figsize=(12,8))\n",
    "sns.barplot(x=sex_counts.index,y=sex_counts.values)\n",
    "plt.title('sex_counts')\n",
    "plt.xlabel('gender')\n",
    "plt.ylabel('count')\n",
    "plt.show()"
   ]
  },
  {
   "cell_type": "code",
   "execution_count": 43,
   "metadata": {
    "execution": {
     "iopub.execute_input": "2023-12-23T18:30:30.651049Z",
     "iopub.status.busy": "2023-12-23T18:30:30.650512Z",
     "iopub.status.idle": "2023-12-23T18:30:31.011345Z",
     "shell.execute_reply": "2023-12-23T18:30:31.009852Z",
     "shell.execute_reply.started": "2023-12-23T18:30:30.651Z"
    }
   },
   "outputs": [
    {
     "data": {
      "image/png": "[encoded data removed]",
      "text/plain": [
       "<Figure size 1200x800 with 1 Axes>"
      ]
     },
     "metadata": {},
     "output_type": "display_data"
    },
    {
     "data": {
      "text/plain": [
       "Age\n",
       "28.0    202\n",
       "24.0     30\n",
       "22.0     27\n",
       "18.0     26\n",
       "19.0     25\n",
       "Name: count, dtype: int64"
      ]
     },
     "execution_count": 43,
     "metadata": {},
     "output_type": "execute_result"
    }
   ],
   "source": [
    "age_counts=titanic['Age'].value_counts().head()\n",
    "\n",
    "plt.figure(figsize=(12,8))\n",
    "sns.barplot(x=age_counts.index,y=age_counts.values)\n",
    "plt.title('age_counts')\n",
    "plt.xlabel('Age')\n",
    "plt.ylabel('count')\n",
    "plt.show()\n",
    "age_counts"
   ]
  },
  {
   "cell_type": "code",
   "execution_count": 10,
   "metadata": {
    "execution": {
     "iopub.execute_input": "2023-12-23T18:30:31.013777Z",
     "iopub.status.busy": "2023-12-23T18:30:31.013252Z",
     "iopub.status.idle": "2023-12-23T18:30:31.026258Z",
     "shell.execute_reply": "2023-12-23T18:30:31.024794Z",
     "shell.execute_reply.started": "2023-12-23T18:30:31.013729Z"
    }
   },
   "outputs": [
    {
     "data": {
      "text/plain": [
       "Pclass\n",
       "3    491\n",
       "1    216\n",
       "2    184\n",
       "Name: count, dtype: int64"
      ]
     },
     "execution_count": 10,
     "metadata": {},
     "output_type": "execute_result"
    }
   ],
   "source": [
    "pclass_counts=titanic['Pclass'].value_counts()\n",
    "pclass_counts"
   ]
  },
  {
   "cell_type": "code",
   "execution_count": 11,
   "metadata": {
    "execution": {
     "iopub.execute_input": "2023-12-23T18:30:31.029377Z",
     "iopub.status.busy": "2023-12-23T18:30:31.028252Z",
     "iopub.status.idle": "2023-12-23T18:30:31.322327Z",
     "shell.execute_reply": "2023-12-23T18:30:31.320883Z",
     "shell.execute_reply.started": "2023-12-23T18:30:31.029327Z"
    }
   },
   "outputs": [
    {
     "data": {
      "image/png": "[encoded data removed]",
      "text/plain": [
       "<Figure size 2000x600 with 1 Axes>"
      ]
     },
     "metadata": {},
     "output_type": "display_data"
    }
   ],
   "source": [
    "plt.figure(figsize = (20, 6))\n",
    "explode = (0,0,0.05)\n",
    "pclass_counts.plot(kind = 'pie', fontsize = 12, explode = explode, autopct = '%.1f%%')\n",
    "plt.title('pclass')\n",
    "plt.xlabel('pclass', weight = \"bold\", color = \"#000000\", fontsize = 14, labelpad = 20)\n",
    "plt.ylabel('counts', weight = \"bold\", color = \"#000000\", fontsize = 14, labelpad = 20)\n",
    "plt.legend(labels = pclass_counts.index, loc = \"best\")\n",
    "plt.show()"
   ]
  },
  {
   "cell_type": "code",
   "execution_count": 12,
   "metadata": {
    "execution": {
     "iopub.execute_input": "2023-12-23T18:30:31.32502Z",
     "iopub.status.busy": "2023-12-23T18:30:31.324453Z",
     "iopub.status.idle": "2023-12-23T18:30:31.336149Z",
     "shell.execute_reply": "2023-12-23T18:30:31.33444Z",
     "shell.execute_reply.started": "2023-12-23T18:30:31.324975Z"
    }
   },
   "outputs": [
    {
     "data": {
      "text/plain": [
       "SibSp\n",
       "0    608\n",
       "1    209\n",
       "2     28\n",
       "4     18\n",
       "3     16\n",
       "8      7\n",
       "5      5\n",
       "Name: count, dtype: int64"
      ]
     },
     "execution_count": 12,
     "metadata": {},
     "output_type": "execute_result"
    }
   ],
   "source": [
    "SibSp_counts=titanic['SibSp'].value_counts()\n",
    "SibSp_counts"
   ]
  },
  {
   "cell_type": "code",
   "execution_count": 42,
   "metadata": {
    "execution": {
     "iopub.execute_input": "2023-12-23T18:30:31.338254Z",
     "iopub.status.busy": "2023-12-23T18:30:31.337757Z",
     "iopub.status.idle": "2023-12-23T18:30:31.720701Z",
     "shell.execute_reply": "2023-12-23T18:30:31.719232Z",
     "shell.execute_reply.started": "2023-12-23T18:30:31.338208Z"
    }
   },
   "outputs": [
    {
     "data": {
      "image/png": "[encoded data removed]",
      "text/plain": [
       "<Figure size 1200x800 with 1 Axes>"
      ]
     },
     "metadata": {},
     "output_type": "display_data"
    }
   ],
   "source": [
    "plt.figure(figsize=(12,8))\n",
    "sns.barplot(x=SibSp_counts.index,y=SibSp_counts.values)\n",
    "plt.title('sibsp_counts')\n",
    "plt.xlabel('sibsp')\n",
    "plt.ylabel('count')\n",
    "plt.show()"
   ]
  },
  {
   "cell_type": "code",
   "execution_count": 14,
   "metadata": {
    "execution": {
     "iopub.execute_input": "2023-12-23T18:30:31.722688Z",
     "iopub.status.busy": "2023-12-23T18:30:31.72218Z",
     "iopub.status.idle": "2023-12-23T18:30:31.733689Z",
     "shell.execute_reply": "2023-12-23T18:30:31.731475Z",
     "shell.execute_reply.started": "2023-12-23T18:30:31.722643Z"
    }
   },
   "outputs": [
    {
     "data": {
      "text/plain": [
       "Parch\n",
       "0    678\n",
       "1    118\n",
       "2     80\n",
       "5      5\n",
       "3      5\n",
       "4      4\n",
       "6      1\n",
       "Name: count, dtype: int64"
      ]
     },
     "execution_count": 14,
     "metadata": {},
     "output_type": "execute_result"
    }
   ],
   "source": [
    "Parch_counts=titanic['Parch'].value_counts()\n",
    "Parch_counts"
   ]
  },
  {
   "cell_type": "code",
   "execution_count": 41,
   "metadata": {
    "execution": {
     "iopub.execute_input": "2023-12-23T18:30:31.736002Z",
     "iopub.status.busy": "2023-12-23T18:30:31.73545Z",
     "iopub.status.idle": "2023-12-23T18:30:32.130872Z",
     "shell.execute_reply": "2023-12-23T18:30:32.129458Z",
     "shell.execute_reply.started": "2023-12-23T18:30:31.735953Z"
    }
   },
   "outputs": [
    {
     "data": {
      "image/png": "[encoded data removed]",
      "text/plain": [
       "<Figure size 1200x800 with 1 Axes>"
      ]
     },
     "metadata": {},
     "output_type": "display_data"
    }
   ],
   "source": [
    "plt.figure(figsize=(12,8))\n",
    "sns.barplot(x=Parch_counts.index,y=Parch_counts.values)\n",
    "plt.title('Parch counts')\n",
    "plt.xlabel('Parch')\n",
    "plt.ylabel('count')\n",
    "plt.show()"
   ]
  },
  {
   "cell_type": "code",
   "execution_count": 16,
   "metadata": {
    "execution": {
     "iopub.execute_input": "2023-12-23T18:30:32.133444Z",
     "iopub.status.busy": "2023-12-23T18:30:32.132943Z",
     "iopub.status.idle": "2023-12-23T18:30:32.147717Z",
     "shell.execute_reply": "2023-12-23T18:30:32.146426Z",
     "shell.execute_reply.started": "2023-12-23T18:30:32.133397Z"
    }
   },
   "outputs": [
    {
     "data": {
      "text/plain": [
       "Embarked\n",
       "S    644\n",
       "C    168\n",
       "Q     77\n",
       "Name: count, dtype: int64"
      ]
     },
     "execution_count": 16,
     "metadata": {},
     "output_type": "execute_result"
    }
   ],
   "source": [
    "Embarked_counts=titanic['Embarked'].value_counts()\n",
    "Embarked_counts"
   ]
  },
  {
   "cell_type": "code",
   "execution_count": 17,
   "metadata": {
    "execution": {
     "iopub.execute_input": "2023-12-23T18:30:32.149843Z",
     "iopub.status.busy": "2023-12-23T18:30:32.149353Z",
     "iopub.status.idle": "2023-12-23T18:30:32.440212Z",
     "shell.execute_reply": "2023-12-23T18:30:32.438756Z",
     "shell.execute_reply.started": "2023-12-23T18:30:32.149809Z"
    }
   },
   "outputs": [
    {
     "data": {
      "image/png": "[encoded data removed]",
      "text/plain": [
       "<Figure size 2000x600 with 1 Axes>"
      ]
     },
     "metadata": {},
     "output_type": "display_data"
    }
   ],
   "source": [
    "plt.figure(figsize = (20, 6))\n",
    "explode = (0,0,0.05)\n",
    "Embarked_counts.plot(kind = 'pie', fontsize = 12, explode = explode, autopct = '%.1f%%')\n",
    "plt.title('Embarked')\n",
    "plt.xlabel('Embarked', weight = \"bold\", color = \"#000000\", fontsize = 14, labelpad = 20)\n",
    "plt.ylabel('counts', weight = \"bold\", color = \"#000000\", fontsize = 14, labelpad = 20)\n",
    "plt.legend(labels = Embarked_counts.index, loc = \"best\")\n",
    "plt.show()"
   ]
  },
  {
   "cell_type": "code",
   "execution_count": 18,
   "metadata": {
    "execution": {
     "iopub.execute_input": "2023-12-23T18:30:32.443741Z",
     "iopub.status.busy": "2023-12-23T18:30:32.443337Z",
     "iopub.status.idle": "2023-12-23T18:30:32.456915Z",
     "shell.execute_reply": "2023-12-23T18:30:32.455011Z",
     "shell.execute_reply.started": "2023-12-23T18:30:32.44371Z"
    }
   },
   "outputs": [
    {
     "data": {
      "text/plain": [
       "Survived\n",
       "0    549\n",
       "1    342\n",
       "Name: count, dtype: int64"
      ]
     },
     "execution_count": 18,
     "metadata": {},
     "output_type": "execute_result"
    }
   ],
   "source": [
    "Survived_counts=titanic['Survived'].value_counts()\n",
    "Survived_counts"
   ]
  },
  {
   "cell_type": "code",
   "execution_count": 19,
   "metadata": {
    "execution": {
     "iopub.execute_input": "2023-12-23T18:30:32.460005Z",
     "iopub.status.busy": "2023-12-23T18:30:32.458863Z",
     "iopub.status.idle": "2023-12-23T18:30:32.729536Z",
     "shell.execute_reply": "2023-12-23T18:30:32.728169Z",
     "shell.execute_reply.started": "2023-12-23T18:30:32.459961Z"
    }
   },
   "outputs": [
    {
     "data": {
      "image/png": "[encoded data removed]",
      "text/plain": [
       "<Figure size 2000x600 with 1 Axes>"
      ]
     },
     "metadata": {},
     "output_type": "display_data"
    }
   ],
   "source": [
    "plt.figure(figsize = (20, 6))\n",
    "explode = (0,0.05)\n",
    "Survived_counts.plot(kind = 'pie', fontsize = 12, explode = explode, autopct = '%.1f%%')\n",
    "plt.title('Survived')\n",
    "plt.xlabel('Survived', weight = \"bold\", color = \"#000000\", fontsize = 14, labelpad = 20)\n",
    "plt.ylabel('counts', weight = \"bold\", color = \"#000000\", fontsize = 14, labelpad = 20)\n",
    "plt.legend(labels = Survived_counts.index, loc = \"best\")\n",
    "plt.show()"
   ]
  },
  {
   "cell_type": "markdown",
   "metadata": {},
   "source": [
    "### visulize ages are survived or not"
   ]
  },
  {
   "cell_type": "code",
   "execution_count": 20,
   "metadata": {
    "execution": {
     "iopub.execute_input": "2023-12-23T18:30:32.732634Z",
     "iopub.status.busy": "2023-12-23T18:30:32.731475Z",
     "iopub.status.idle": "2023-12-23T18:30:33.6553Z",
     "shell.execute_reply": "2023-12-23T18:30:33.653859Z",
     "shell.execute_reply.started": "2023-12-23T18:30:32.732588Z"
    }
   },
   "outputs": [
    {
     "name": "stderr",
     "output_type": "stream",
     "text": [
      "C:\\Users\\rohan\\anaconda3\\Lib\\site-packages\\seaborn\\axisgrid.py:118: UserWarning: The figure layout has changed to tight\n",
      "  self._figure.tight_layout(*args, **kwargs)\n"
     ]
    },
    {
     "data": {
      "text/plain": [
       "<seaborn.axisgrid.FacetGrid at 0x154fc351e50>"
      ]
     },
     "execution_count": 20,
     "metadata": {},
     "output_type": "execute_result"
    },
    {
     "data": {
      "image/png": "[encoded data removed]",
      "text/plain": [
       "<Figure size 600x300 with 2 Axes>"
      ]
     },
     "metadata": {},
     "output_type": "display_data"
    }
   ],
   "source": [
    "age=sns.FacetGrid(titanic,col='Survived')\n",
    "age.map(plt.hist,'Age',bins=20)"
   ]
  },
  {
   "cell_type": "markdown",
   "metadata": {},
   "source": [
    "## visulize gender is survived or not"
   ]
  },
  {
   "cell_type": "code",
   "execution_count": 21,
   "metadata": {
    "execution": {
     "iopub.execute_input": "2023-12-23T18:30:33.657015Z",
     "iopub.status.busy": "2023-12-23T18:30:33.656587Z",
     "iopub.status.idle": "2023-12-23T18:30:34.415601Z",
     "shell.execute_reply": "2023-12-23T18:30:34.414208Z",
     "shell.execute_reply.started": "2023-12-23T18:30:33.656896Z"
    }
   },
   "outputs": [
    {
     "name": "stderr",
     "output_type": "stream",
     "text": [
      "C:\\Users\\rohan\\anaconda3\\Lib\\site-packages\\seaborn\\axisgrid.py:118: UserWarning: The figure layout has changed to tight\n",
      "  self._figure.tight_layout(*args, **kwargs)\n"
     ]
    },
    {
     "data": {
      "text/plain": [
       "<seaborn.axisgrid.FacetGrid at 0x154fd3e1090>"
      ]
     },
     "execution_count": 21,
     "metadata": {},
     "output_type": "execute_result"
    },
    {
     "data": {
      "image/png": "[encoded data removed]",
      "text/plain": [
       "<Figure size 600x300 with 2 Axes>"
      ]
     },
     "metadata": {},
     "output_type": "display_data"
    }
   ],
   "source": [
    "gender=sns.FacetGrid(titanic,col='Survived')\n",
    "\n",
    "gender.map(plt.hist,'Sex',bins=2)"
   ]
  },
  {
   "cell_type": "markdown",
   "metadata": {},
   "source": [
    "## visulize sibsp is survived or not"
   ]
  },
  {
   "cell_type": "code",
   "execution_count": 22,
   "metadata": {
    "execution": {
     "iopub.execute_input": "2023-12-23T18:30:34.418414Z",
     "iopub.status.busy": "2023-12-23T18:30:34.417978Z",
     "iopub.status.idle": "2023-12-23T18:30:35.298682Z",
     "shell.execute_reply": "2023-12-23T18:30:35.297404Z",
     "shell.execute_reply.started": "2023-12-23T18:30:34.418379Z"
    }
   },
   "outputs": [
    {
     "name": "stderr",
     "output_type": "stream",
     "text": [
      "C:\\Users\\rohan\\anaconda3\\Lib\\site-packages\\seaborn\\axisgrid.py:118: UserWarning: The figure layout has changed to tight\n",
      "  self._figure.tight_layout(*args, **kwargs)\n"
     ]
    },
    {
     "data": {
      "text/plain": [
       "<seaborn.axisgrid.FacetGrid at 0x154fd4cd090>"
      ]
     },
     "execution_count": 22,
     "metadata": {},
     "output_type": "execute_result"
    },
    {
     "data": {
      "image/png": "[encoded data removed]",
      "text/plain": [
       "<Figure size 600x300 with 2 Axes>"
      ]
     },
     "metadata": {},
     "output_type": "display_data"
    }
   ],
   "source": [
    "sibsp=sns.FacetGrid(titanic,col='Survived')\n",
    "plt.xticks(SibSp_counts.index)\n",
    "sibsp.map(plt.hist,'SibSp',bins=9)"
   ]
  },
  {
   "cell_type": "markdown",
   "metadata": {},
   "source": [
    "## visulize pclass is survived or not"
   ]
  },
  {
   "cell_type": "code",
   "execution_count": 23,
   "metadata": {
    "execution": {
     "iopub.execute_input": "2023-12-23T18:30:35.300888Z",
     "iopub.status.busy": "2023-12-23T18:30:35.300503Z",
     "iopub.status.idle": "2023-12-23T18:30:36.108862Z",
     "shell.execute_reply": "2023-12-23T18:30:36.107408Z",
     "shell.execute_reply.started": "2023-12-23T18:30:35.300853Z"
    }
   },
   "outputs": [
    {
     "name": "stderr",
     "output_type": "stream",
     "text": [
      "C:\\Users\\rohan\\anaconda3\\Lib\\site-packages\\seaborn\\axisgrid.py:118: UserWarning: The figure layout has changed to tight\n",
      "  self._figure.tight_layout(*args, **kwargs)\n"
     ]
    },
    {
     "data": {
      "text/plain": [
       "<seaborn.axisgrid.FacetGrid at 0x154fcbdac90>"
      ]
     },
     "execution_count": 23,
     "metadata": {},
     "output_type": "execute_result"
    },
    {
     "data": {
      "image/png": "[encoded data removed]",
      "text/plain": [
       "<Figure size 600x300 with 2 Axes>"
      ]
     },
     "metadata": {},
     "output_type": "display_data"
    }
   ],
   "source": [
    "pclass=sns.FacetGrid(titanic,col='Survived')\n",
    "plt.xticks([1,2,3])\n",
    "pclass.map(plt.hist,'Pclass')"
   ]
  },
  {
   "cell_type": "markdown",
   "metadata": {},
   "source": [
    "## visulize Parch is survived or notParch"
   ]
  },
  {
   "cell_type": "code",
   "execution_count": 24,
   "metadata": {
    "execution": {
     "iopub.execute_input": "2023-12-23T18:30:36.110689Z",
     "iopub.status.busy": "2023-12-23T18:30:36.110338Z",
     "iopub.status.idle": "2023-12-23T18:30:36.965484Z",
     "shell.execute_reply": "2023-12-23T18:30:36.964245Z",
     "shell.execute_reply.started": "2023-12-23T18:30:36.110659Z"
    }
   },
   "outputs": [
    {
     "name": "stderr",
     "output_type": "stream",
     "text": [
      "C:\\Users\\rohan\\anaconda3\\Lib\\site-packages\\seaborn\\axisgrid.py:118: UserWarning: The figure layout has changed to tight\n",
      "  self._figure.tight_layout(*args, **kwargs)\n"
     ]
    },
    {
     "data": {
      "text/plain": [
       "<seaborn.axisgrid.FacetGrid at 0x154fd521510>"
      ]
     },
     "execution_count": 24,
     "metadata": {},
     "output_type": "execute_result"
    },
    {
     "data": {
      "image/png": "[encoded data removed]",
      "text/plain": [
       "<Figure size 600x300 with 2 Axes>"
      ]
     },
     "metadata": {},
     "output_type": "display_data"
    }
   ],
   "source": [
    "pclass=sns.FacetGrid(titanic,col='Survived')\n",
    "plt.xticks(Parch_counts.index)\n",
    "pclass.map(plt.hist,'Parch')"
   ]
  },
  {
   "cell_type": "markdown",
   "metadata": {},
   "source": [
    "## **Data Preprocessing**"
   ]
  },
  {
   "cell_type": "code",
   "execution_count": 25,
   "metadata": {
    "execution": {
     "iopub.execute_input": "2023-12-23T18:30:36.967426Z",
     "iopub.status.busy": "2023-12-23T18:30:36.967085Z",
     "iopub.status.idle": "2023-12-23T18:30:36.986679Z",
     "shell.execute_reply": "2023-12-23T18:30:36.985205Z",
     "shell.execute_reply.started": "2023-12-23T18:30:36.967395Z"
    }
   },
   "outputs": [
    {
     "data": {
      "text/html": [
       "<div>\n",
       "<style scoped>\n",
       "    .dataframe tbody tr th:only-of-type {\n",
       "        vertical-align: middle;\n",
       "    }\n",
       "\n",
       "    .dataframe tbody tr th {\n",
       "        vertical-align: top;\n",
       "    }\n",
       "\n",
       "    .dataframe thead th {\n",
       "        text-align: right;\n",
       "    }\n",
       "</style>\n",
       "<table border=\"1\" class=\"dataframe\">\n",
       "  <thead>\n",
       "    <tr style=\"text-align: right;\">\n",
       "      <th></th>\n",
       "      <th>Survived</th>\n",
       "      <th>Pclass</th>\n",
       "      <th>Sex</th>\n",
       "      <th>Age</th>\n",
       "      <th>SibSp</th>\n",
       "      <th>Parch</th>\n",
       "      <th>Fare</th>\n",
       "      <th>Embarked</th>\n",
       "    </tr>\n",
       "  </thead>\n",
       "  <tbody>\n",
       "    <tr>\n",
       "      <th>0</th>\n",
       "      <td>0</td>\n",
       "      <td>3</td>\n",
       "      <td>male</td>\n",
       "      <td>22.0</td>\n",
       "      <td>1</td>\n",
       "      <td>0</td>\n",
       "      <td>7.2500</td>\n",
       "      <td>S</td>\n",
       "    </tr>\n",
       "    <tr>\n",
       "      <th>1</th>\n",
       "      <td>1</td>\n",
       "      <td>1</td>\n",
       "      <td>female</td>\n",
       "      <td>38.0</td>\n",
       "      <td>1</td>\n",
       "      <td>0</td>\n",
       "      <td>71.2833</td>\n",
       "      <td>C</td>\n",
       "    </tr>\n",
       "    <tr>\n",
       "      <th>2</th>\n",
       "      <td>1</td>\n",
       "      <td>3</td>\n",
       "      <td>female</td>\n",
       "      <td>26.0</td>\n",
       "      <td>0</td>\n",
       "      <td>0</td>\n",
       "      <td>7.9250</td>\n",
       "      <td>S</td>\n",
       "    </tr>\n",
       "    <tr>\n",
       "      <th>3</th>\n",
       "      <td>1</td>\n",
       "      <td>1</td>\n",
       "      <td>female</td>\n",
       "      <td>35.0</td>\n",
       "      <td>1</td>\n",
       "      <td>0</td>\n",
       "      <td>53.1000</td>\n",
       "      <td>S</td>\n",
       "    </tr>\n",
       "    <tr>\n",
       "      <th>4</th>\n",
       "      <td>0</td>\n",
       "      <td>3</td>\n",
       "      <td>male</td>\n",
       "      <td>35.0</td>\n",
       "      <td>0</td>\n",
       "      <td>0</td>\n",
       "      <td>8.0500</td>\n",
       "      <td>S</td>\n",
       "    </tr>\n",
       "  </tbody>\n",
       "</table>\n",
       "</div>"
      ],
      "text/plain": [
       "   Survived  Pclass     Sex   Age  SibSp  Parch     Fare Embarked\n",
       "0         0       3    male  22.0      1      0   7.2500        S\n",
       "1         1       1  female  38.0      1      0  71.2833        C\n",
       "2         1       3  female  26.0      0      0   7.9250        S\n",
       "3         1       1  female  35.0      1      0  53.1000        S\n",
       "4         0       3    male  35.0      0      0   8.0500        S"
      ]
     },
     "execution_count": 25,
     "metadata": {},
     "output_type": "execute_result"
    }
   ],
   "source": [
    "titanic=titanic.drop(columns=['PassengerId', 'Name', 'Cabin', 'Ticket'], axis=1)\n",
    "titanic.head()"
   ]
  },
  {
   "cell_type": "code",
   "execution_count": 26,
   "metadata": {
    "execution": {
     "iopub.execute_input": "2023-12-23T18:30:36.988799Z",
     "iopub.status.busy": "2023-12-23T18:30:36.988458Z",
     "iopub.status.idle": "2023-12-23T18:30:37.008137Z",
     "shell.execute_reply": "2023-12-23T18:30:37.007129Z",
     "shell.execute_reply.started": "2023-12-23T18:30:36.988769Z"
    }
   },
   "outputs": [
    {
     "data": {
      "text/html": [
       "<div>\n",
       "<style scoped>\n",
       "    .dataframe tbody tr th:only-of-type {\n",
       "        vertical-align: middle;\n",
       "    }\n",
       "\n",
       "    .dataframe tbody tr th {\n",
       "        vertical-align: top;\n",
       "    }\n",
       "\n",
       "    .dataframe thead th {\n",
       "        text-align: right;\n",
       "    }\n",
       "</style>\n",
       "<table border=\"1\" class=\"dataframe\">\n",
       "  <thead>\n",
       "    <tr style=\"text-align: right;\">\n",
       "      <th></th>\n",
       "      <th>Survived</th>\n",
       "      <th>Pclass</th>\n",
       "      <th>Sex</th>\n",
       "      <th>Age</th>\n",
       "      <th>SibSp</th>\n",
       "      <th>Parch</th>\n",
       "      <th>Fare</th>\n",
       "      <th>Embarked</th>\n",
       "    </tr>\n",
       "  </thead>\n",
       "  <tbody>\n",
       "    <tr>\n",
       "      <th>0</th>\n",
       "      <td>0</td>\n",
       "      <td>3</td>\n",
       "      <td>1</td>\n",
       "      <td>22.0</td>\n",
       "      <td>1</td>\n",
       "      <td>0</td>\n",
       "      <td>7.2500</td>\n",
       "      <td>S</td>\n",
       "    </tr>\n",
       "    <tr>\n",
       "      <th>1</th>\n",
       "      <td>1</td>\n",
       "      <td>1</td>\n",
       "      <td>0</td>\n",
       "      <td>38.0</td>\n",
       "      <td>1</td>\n",
       "      <td>0</td>\n",
       "      <td>71.2833</td>\n",
       "      <td>C</td>\n",
       "    </tr>\n",
       "    <tr>\n",
       "      <th>2</th>\n",
       "      <td>1</td>\n",
       "      <td>3</td>\n",
       "      <td>0</td>\n",
       "      <td>26.0</td>\n",
       "      <td>0</td>\n",
       "      <td>0</td>\n",
       "      <td>7.9250</td>\n",
       "      <td>S</td>\n",
       "    </tr>\n",
       "    <tr>\n",
       "      <th>3</th>\n",
       "      <td>1</td>\n",
       "      <td>1</td>\n",
       "      <td>0</td>\n",
       "      <td>35.0</td>\n",
       "      <td>1</td>\n",
       "      <td>0</td>\n",
       "      <td>53.1000</td>\n",
       "      <td>S</td>\n",
       "    </tr>\n",
       "    <tr>\n",
       "      <th>4</th>\n",
       "      <td>0</td>\n",
       "      <td>3</td>\n",
       "      <td>1</td>\n",
       "      <td>35.0</td>\n",
       "      <td>0</td>\n",
       "      <td>0</td>\n",
       "      <td>8.0500</td>\n",
       "      <td>S</td>\n",
       "    </tr>\n",
       "  </tbody>\n",
       "</table>\n",
       "</div>"
      ],
      "text/plain": [
       "   Survived  Pclass  Sex   Age  SibSp  Parch     Fare Embarked\n",
       "0         0       3    1  22.0      1      0   7.2500        S\n",
       "1         1       1    0  38.0      1      0  71.2833        C\n",
       "2         1       3    0  26.0      0      0   7.9250        S\n",
       "3         1       1    0  35.0      1      0  53.1000        S\n",
       "4         0       3    1  35.0      0      0   8.0500        S"
      ]
     },
     "execution_count": 26,
     "metadata": {},
     "output_type": "execute_result"
    }
   ],
   "source": [
    "### convert the gender to binary 0 and 1\n",
    "titanic['Sex']=titanic['Sex'].replace({'male':1,'female':0})\n",
    "titanic.head()"
   ]
  },
  {
   "cell_type": "code",
   "execution_count": 27,
   "metadata": {
    "execution": {
     "iopub.execute_input": "2023-12-23T18:30:37.01947Z",
     "iopub.status.busy": "2023-12-23T18:30:37.019066Z",
     "iopub.status.idle": "2023-12-23T18:30:37.03111Z",
     "shell.execute_reply": "2023-12-23T18:30:37.030092Z",
     "shell.execute_reply.started": "2023-12-23T18:30:37.019438Z"
    }
   },
   "outputs": [
    {
     "data": {
      "text/plain": [
       "Survived    0\n",
       "Pclass      0\n",
       "Sex         0\n",
       "Age         0\n",
       "SibSp       0\n",
       "Parch       0\n",
       "Fare        0\n",
       "Embarked    2\n",
       "dtype: int64"
      ]
     },
     "execution_count": 27,
     "metadata": {},
     "output_type": "execute_result"
    }
   ],
   "source": [
    "# Fill missing values in age column by imputing the median\n",
    "titanic['Age'].fillna(titanic['Age'].median(), inplace=True)\n",
    "titanic.isna().sum()"
   ]
  },
  {
   "cell_type": "code",
   "execution_count": 28,
   "metadata": {
    "execution": {
     "iopub.execute_input": "2023-12-23T18:30:37.033812Z",
     "iopub.status.busy": "2023-12-23T18:30:37.033308Z",
     "iopub.status.idle": "2023-12-23T18:30:37.049688Z",
     "shell.execute_reply": "2023-12-23T18:30:37.048243Z",
     "shell.execute_reply.started": "2023-12-23T18:30:37.033771Z"
    }
   },
   "outputs": [
    {
     "data": {
      "text/plain": [
       "Survived    0\n",
       "Pclass      0\n",
       "Sex         0\n",
       "Age         0\n",
       "SibSp       0\n",
       "Parch       0\n",
       "Fare        0\n",
       "Embarked    0\n",
       "dtype: int64"
      ]
     },
     "execution_count": 28,
     "metadata": {},
     "output_type": "execute_result"
    }
   ],
   "source": [
    "# Fill missing values in embarked column by imputing the mode\n",
    "titanic[\"Embarked\"].fillna(titanic[\"Embarked\"].mode()[0], inplace=True)\n",
    "titanic.isna().sum()"
   ]
  },
  {
   "cell_type": "code",
   "execution_count": 29,
   "metadata": {
    "execution": {
     "iopub.execute_input": "2023-12-23T18:30:37.0521Z",
     "iopub.status.busy": "2023-12-23T18:30:37.051573Z",
     "iopub.status.idle": "2023-12-23T18:30:37.074921Z",
     "shell.execute_reply": "2023-12-23T18:30:37.073608Z",
     "shell.execute_reply.started": "2023-12-23T18:30:37.052053Z"
    }
   },
   "outputs": [
    {
     "data": {
      "text/html": [
       "<div>\n",
       "<style scoped>\n",
       "    .dataframe tbody tr th:only-of-type {\n",
       "        vertical-align: middle;\n",
       "    }\n",
       "\n",
       "    .dataframe tbody tr th {\n",
       "        vertical-align: top;\n",
       "    }\n",
       "\n",
       "    .dataframe thead th {\n",
       "        text-align: right;\n",
       "    }\n",
       "</style>\n",
       "<table border=\"1\" class=\"dataframe\">\n",
       "  <thead>\n",
       "    <tr style=\"text-align: right;\">\n",
       "      <th></th>\n",
       "      <th>Survived</th>\n",
       "      <th>Pclass</th>\n",
       "      <th>Sex</th>\n",
       "      <th>Age</th>\n",
       "      <th>SibSp</th>\n",
       "      <th>Parch</th>\n",
       "      <th>Fare</th>\n",
       "      <th>Embarked</th>\n",
       "    </tr>\n",
       "  </thead>\n",
       "  <tbody>\n",
       "    <tr>\n",
       "      <th>0</th>\n",
       "      <td>0</td>\n",
       "      <td>3</td>\n",
       "      <td>1</td>\n",
       "      <td>22.0</td>\n",
       "      <td>1</td>\n",
       "      <td>0</td>\n",
       "      <td>7.2500</td>\n",
       "      <td>1</td>\n",
       "    </tr>\n",
       "    <tr>\n",
       "      <th>1</th>\n",
       "      <td>1</td>\n",
       "      <td>1</td>\n",
       "      <td>0</td>\n",
       "      <td>38.0</td>\n",
       "      <td>1</td>\n",
       "      <td>0</td>\n",
       "      <td>71.2833</td>\n",
       "      <td>2</td>\n",
       "    </tr>\n",
       "    <tr>\n",
       "      <th>2</th>\n",
       "      <td>1</td>\n",
       "      <td>3</td>\n",
       "      <td>0</td>\n",
       "      <td>26.0</td>\n",
       "      <td>0</td>\n",
       "      <td>0</td>\n",
       "      <td>7.9250</td>\n",
       "      <td>1</td>\n",
       "    </tr>\n",
       "    <tr>\n",
       "      <th>3</th>\n",
       "      <td>1</td>\n",
       "      <td>1</td>\n",
       "      <td>0</td>\n",
       "      <td>35.0</td>\n",
       "      <td>1</td>\n",
       "      <td>0</td>\n",
       "      <td>53.1000</td>\n",
       "      <td>1</td>\n",
       "    </tr>\n",
       "    <tr>\n",
       "      <th>4</th>\n",
       "      <td>0</td>\n",
       "      <td>3</td>\n",
       "      <td>1</td>\n",
       "      <td>35.0</td>\n",
       "      <td>0</td>\n",
       "      <td>0</td>\n",
       "      <td>8.0500</td>\n",
       "      <td>1</td>\n",
       "    </tr>\n",
       "  </tbody>\n",
       "</table>\n",
       "</div>"
      ],
      "text/plain": [
       "   Survived  Pclass  Sex   Age  SibSp  Parch     Fare  Embarked\n",
       "0         0       3    1  22.0      1      0   7.2500         1\n",
       "1         1       1    0  38.0      1      0  71.2833         2\n",
       "2         1       3    0  26.0      0      0   7.9250         1\n",
       "3         1       1    0  35.0      1      0  53.1000         1\n",
       "4         0       3    1  35.0      0      0   8.0500         1"
      ]
     },
     "execution_count": 29,
     "metadata": {},
     "output_type": "execute_result"
    }
   ],
   "source": [
    "titanic['Embarked']=titanic['Embarked'].replace({'S':1,'C':2,'Q':3})\n",
    "titanic.head()"
   ]
  },
  {
   "cell_type": "code",
   "execution_count": 30,
   "metadata": {
    "execution": {
     "iopub.execute_input": "2023-12-23T18:30:37.077275Z",
     "iopub.status.busy": "2023-12-23T18:30:37.076412Z",
     "iopub.status.idle": "2023-12-23T18:30:37.099984Z",
     "shell.execute_reply": "2023-12-23T18:30:37.098666Z",
     "shell.execute_reply.started": "2023-12-23T18:30:37.077226Z"
    }
   },
   "outputs": [
    {
     "data": {
      "text/html": [
       "<div>\n",
       "<style scoped>\n",
       "    .dataframe tbody tr th:only-of-type {\n",
       "        vertical-align: middle;\n",
       "    }\n",
       "\n",
       "    .dataframe tbody tr th {\n",
       "        vertical-align: top;\n",
       "    }\n",
       "\n",
       "    .dataframe thead th {\n",
       "        text-align: right;\n",
       "    }\n",
       "</style>\n",
       "<table border=\"1\" class=\"dataframe\">\n",
       "  <thead>\n",
       "    <tr style=\"text-align: right;\">\n",
       "      <th></th>\n",
       "      <th>Survived</th>\n",
       "      <th>Pclass</th>\n",
       "      <th>Sex</th>\n",
       "      <th>Age</th>\n",
       "      <th>SibSp</th>\n",
       "      <th>Parch</th>\n",
       "      <th>Fare</th>\n",
       "      <th>Embarked</th>\n",
       "    </tr>\n",
       "  </thead>\n",
       "  <tbody>\n",
       "    <tr>\n",
       "      <th>Survived</th>\n",
       "      <td>1.000000</td>\n",
       "      <td>-0.338481</td>\n",
       "      <td>-0.543351</td>\n",
       "      <td>-0.064910</td>\n",
       "      <td>-0.035322</td>\n",
       "      <td>0.081629</td>\n",
       "      <td>0.257307</td>\n",
       "      <td>0.106811</td>\n",
       "    </tr>\n",
       "    <tr>\n",
       "      <th>Pclass</th>\n",
       "      <td>-0.338481</td>\n",
       "      <td>1.000000</td>\n",
       "      <td>0.131900</td>\n",
       "      <td>-0.339898</td>\n",
       "      <td>0.083081</td>\n",
       "      <td>0.018443</td>\n",
       "      <td>-0.549500</td>\n",
       "      <td>0.045702</td>\n",
       "    </tr>\n",
       "    <tr>\n",
       "      <th>Sex</th>\n",
       "      <td>-0.543351</td>\n",
       "      <td>0.131900</td>\n",
       "      <td>1.000000</td>\n",
       "      <td>0.081163</td>\n",
       "      <td>-0.114631</td>\n",
       "      <td>-0.245489</td>\n",
       "      <td>-0.182333</td>\n",
       "      <td>-0.116569</td>\n",
       "    </tr>\n",
       "    <tr>\n",
       "      <th>Age</th>\n",
       "      <td>-0.064910</td>\n",
       "      <td>-0.339898</td>\n",
       "      <td>0.081163</td>\n",
       "      <td>1.000000</td>\n",
       "      <td>-0.233296</td>\n",
       "      <td>-0.172482</td>\n",
       "      <td>0.096688</td>\n",
       "      <td>-0.009165</td>\n",
       "    </tr>\n",
       "    <tr>\n",
       "      <th>SibSp</th>\n",
       "      <td>-0.035322</td>\n",
       "      <td>0.083081</td>\n",
       "      <td>-0.114631</td>\n",
       "      <td>-0.233296</td>\n",
       "      <td>1.000000</td>\n",
       "      <td>0.414838</td>\n",
       "      <td>0.159651</td>\n",
       "      <td>-0.059961</td>\n",
       "    </tr>\n",
       "    <tr>\n",
       "      <th>Parch</th>\n",
       "      <td>0.081629</td>\n",
       "      <td>0.018443</td>\n",
       "      <td>-0.245489</td>\n",
       "      <td>-0.172482</td>\n",
       "      <td>0.414838</td>\n",
       "      <td>1.000000</td>\n",
       "      <td>0.216225</td>\n",
       "      <td>-0.078665</td>\n",
       "    </tr>\n",
       "    <tr>\n",
       "      <th>Fare</th>\n",
       "      <td>0.257307</td>\n",
       "      <td>-0.549500</td>\n",
       "      <td>-0.182333</td>\n",
       "      <td>0.096688</td>\n",
       "      <td>0.159651</td>\n",
       "      <td>0.216225</td>\n",
       "      <td>1.000000</td>\n",
       "      <td>0.062142</td>\n",
       "    </tr>\n",
       "    <tr>\n",
       "      <th>Embarked</th>\n",
       "      <td>0.106811</td>\n",
       "      <td>0.045702</td>\n",
       "      <td>-0.116569</td>\n",
       "      <td>-0.009165</td>\n",
       "      <td>-0.059961</td>\n",
       "      <td>-0.078665</td>\n",
       "      <td>0.062142</td>\n",
       "      <td>1.000000</td>\n",
       "    </tr>\n",
       "  </tbody>\n",
       "</table>\n",
       "</div>"
      ],
      "text/plain": [
       "          Survived    Pclass       Sex       Age     SibSp     Parch  \\\n",
       "Survived  1.000000 -0.338481 -0.543351 -0.064910 -0.035322  0.081629   \n",
       "Pclass   -0.338481  1.000000  0.131900 -0.339898  0.083081  0.018443   \n",
       "Sex      -0.543351  0.131900  1.000000  0.081163 -0.114631 -0.245489   \n",
       "Age      -0.064910 -0.339898  0.081163  1.000000 -0.233296 -0.172482   \n",
       "SibSp    -0.035322  0.083081 -0.114631 -0.233296  1.000000  0.414838   \n",
       "Parch     0.081629  0.018443 -0.245489 -0.172482  0.414838  1.000000   \n",
       "Fare      0.257307 -0.549500 -0.182333  0.096688  0.159651  0.216225   \n",
       "Embarked  0.106811  0.045702 -0.116569 -0.009165 -0.059961 -0.078665   \n",
       "\n",
       "              Fare  Embarked  \n",
       "Survived  0.257307  0.106811  \n",
       "Pclass   -0.549500  0.045702  \n",
       "Sex      -0.182333 -0.116569  \n",
       "Age       0.096688 -0.009165  \n",
       "SibSp     0.159651 -0.059961  \n",
       "Parch     0.216225 -0.078665  \n",
       "Fare      1.000000  0.062142  \n",
       "Embarked  0.062142  1.000000  "
      ]
     },
     "execution_count": 30,
     "metadata": {},
     "output_type": "execute_result"
    }
   ],
   "source": [
    "titanic.corr()"
   ]
  },
  {
   "cell_type": "code",
   "execution_count": 31,
   "metadata": {
    "execution": {
     "iopub.execute_input": "2023-12-23T18:30:37.102465Z",
     "iopub.status.busy": "2023-12-23T18:30:37.101423Z",
     "iopub.status.idle": "2023-12-23T18:30:37.749005Z",
     "shell.execute_reply": "2023-12-23T18:30:37.747649Z",
     "shell.execute_reply.started": "2023-12-23T18:30:37.102417Z"
    }
   },
   "outputs": [
    {
     "data": {
      "image/png": "[encoded data removed]",
      "text/plain": [
       "<Figure size 1600x1000 with 2 Axes>"
      ]
     },
     "metadata": {},
     "output_type": "display_data"
    }
   ],
   "source": [
    "plt.figure(figsize=(16, 10))\n",
    "sns.heatmap(titanic.corr(), annot=True)\n",
    "plt.show()"
   ]
  },
  {
   "cell_type": "markdown",
   "metadata": {},
   "source": [
    "## **define features and target**"
   ]
  },
  {
   "cell_type": "code",
   "execution_count": 32,
   "metadata": {
    "execution": {
     "iopub.execute_input": "2023-12-23T18:30:37.751156Z",
     "iopub.status.busy": "2023-12-23T18:30:37.750626Z",
     "iopub.status.idle": "2023-12-23T18:30:37.758805Z",
     "shell.execute_reply": "2023-12-23T18:30:37.757541Z",
     "shell.execute_reply.started": "2023-12-23T18:30:37.75111Z"
    }
   },
   "outputs": [],
   "source": [
    "x=titanic.drop(columns=['Survived'])\n",
    "y=titanic['Survived']"
   ]
  },
  {
   "cell_type": "markdown",
   "metadata": {},
   "source": [
    "## **Data scaling**"
   ]
  },
  {
   "cell_type": "code",
   "execution_count": 33,
   "metadata": {
    "execution": {
     "iopub.execute_input": "2023-12-23T18:30:37.761386Z",
     "iopub.status.busy": "2023-12-23T18:30:37.760826Z",
     "iopub.status.idle": "2023-12-23T18:30:37.777233Z",
     "shell.execute_reply": "2023-12-23T18:30:37.775887Z",
     "shell.execute_reply.started": "2023-12-23T18:30:37.761338Z"
    }
   },
   "outputs": [],
   "source": [
    "scaler=MinMaxScaler()\n",
    "x=scaler.fit_transform(x)"
   ]
  },
  {
   "cell_type": "markdown",
   "metadata": {},
   "source": [
    "## **reshape to y**"
   ]
  },
  {
   "cell_type": "code",
   "execution_count": 34,
   "metadata": {
    "execution": {
     "iopub.execute_input": "2023-12-23T18:30:37.778677Z",
     "iopub.status.busy": "2023-12-23T18:30:37.778327Z",
     "iopub.status.idle": "2023-12-23T18:30:37.790803Z",
     "shell.execute_reply": "2023-12-23T18:30:37.789358Z",
     "shell.execute_reply.started": "2023-12-23T18:30:37.778648Z"
    }
   },
   "outputs": [],
   "source": [
    "y=y.values.reshape(-1,1)"
   ]
  },
  {
   "cell_type": "markdown",
   "metadata": {},
   "source": [
    "## **split data**"
   ]
  },
  {
   "cell_type": "code",
   "execution_count": 35,
   "metadata": {
    "execution": {
     "iopub.execute_input": "2023-12-23T18:30:37.79283Z",
     "iopub.status.busy": "2023-12-23T18:30:37.792379Z",
     "iopub.status.idle": "2023-12-23T18:30:37.806381Z",
     "shell.execute_reply": "2023-12-23T18:30:37.805024Z",
     "shell.execute_reply.started": "2023-12-23T18:30:37.792798Z"
    }
   },
   "outputs": [],
   "source": [
    "X_train,X_test,y_train,y_test=train_test_split(x,y,test_size=0.2,shuffle=True,random_state=42)"
   ]
  },
  {
   "cell_type": "markdown",
   "metadata": {},
   "source": [
    "## **Model**"
   ]
  },
  {
   "cell_type": "markdown",
   "metadata": {},
   "source": [
    "## **XGBoost**"
   ]
  },
  {
   "cell_type": "code",
   "execution_count": 36,
   "metadata": {
    "execution": {
     "iopub.execute_input": "2023-12-23T18:30:44.403417Z",
     "iopub.status.busy": "2023-12-23T18:30:44.402479Z",
     "iopub.status.idle": "2023-12-23T18:30:46.86457Z",
     "shell.execute_reply": "2023-12-23T18:30:46.863312Z",
     "shell.execute_reply.started": "2023-12-23T18:30:44.403346Z"
    },
    "jupyter": {
     "outputs_hidden": true
    }
   },
   "outputs": [
    {
     "name": "stdout",
     "output_type": "stream",
     "text": [
      "[0]\tvalidation_0-logloss:0.68007\n",
      "[1]\tvalidation_0-logloss:0.67957\n",
      "[2]\tvalidation_0-logloss:0.67906\n",
      "[3]\tvalidation_0-logloss:0.67855\n",
      "[4]\tvalidation_0-logloss:0.67805\n",
      "[5]\tvalidation_0-logloss:0.67754\n",
      "[6]\tvalidation_0-logloss:0.67704\n",
      "[7]\tvalidation_0-logloss:0.67654\n",
      "[8]\tvalidation_0-logloss:0.67604\n",
      "[9]\tvalidation_0-logloss:0.67554\n",
      "[10]\tvalidation_0-logloss:0.67504\n",
      "[11]\tvalidation_0-logloss:0.67454\n",
      "[12]\tvalidation_0-logloss:0.67405\n",
      "[13]\tvalidation_0-logloss:0.67355\n",
      "[14]\tvalidation_0-logloss:0.67306\n",
      "[15]\tvalidation_0-logloss:0.67256\n",
      "[16]\tvalidation_0-logloss:0.67207\n",
      "[17]\tvalidation_0-logloss:0.67158\n",
      "[18]\tvalidation_0-logloss:0.67109\n",
      "[19]\tvalidation_0-logloss:0.67060\n",
      "[20]\tvalidation_0-logloss:0.67011\n",
      "[21]\tvalidation_0-logloss:0.66963\n",
      "[22]\tvalidation_0-logloss:0.66914\n",
      "[23]\tvalidation_0-logloss:0.66866\n",
      "[24]\tvalidation_0-logloss:0.66817\n",
      "[25]\tvalidation_0-logloss:0.66769\n",
      "[26]\tvalidation_0-logloss:0.66721\n",
      "[27]\tvalidation_0-logloss:0.66673\n",
      "[28]\tvalidation_0-logloss:0.66625\n",
      "[29]\tvalidation_0-logloss:0.66577\n",
      "[30]\tvalidation_0-logloss:0.66529\n",
      "[31]\tvalidation_0-logloss:0.66482\n",
      "[32]\tvalidation_0-logloss:0.66434\n",
      "[33]\tvalidation_0-logloss:0.66387\n",
      "[34]\tvalidation_0-logloss:0.66339\n",
      "[35]\tvalidation_0-logloss:0.66292\n",
      "[36]\tvalidation_0-logloss:0.66245\n",
      "[37]\tvalidation_0-logloss:0.66198\n",
      "[38]\tvalidation_0-logloss:0.66151\n",
      "[39]\tvalidation_0-logloss:0.66104\n",
      "[40]\tvalidation_0-logloss:0.66057\n",
      "[41]\tvalidation_0-logloss:0.66011\n",
      "[42]\tvalidation_0-logloss:0.65964\n",
      "[43]\tvalidation_0-logloss:0.65918\n",
      "[44]\tvalidation_0-logloss:0.65871\n",
      "[45]\tvalidation_0-logloss:0.65825\n",
      "[46]\tvalidation_0-logloss:0.65779\n"
     ]
    },
    {
     "name": "stderr",
     "output_type": "stream",
     "text": [
      "C:\\Users\\rohan\\anaconda3\\Lib\\site-packages\\xgboost\\sklearn.py:889: UserWarning: `early_stopping_rounds` in `fit` method is deprecated for better compatibility with scikit-learn, use `early_stopping_rounds` in constructor or`set_params` instead.\n",
      "  warnings.warn(\n"
     ]
    },
    {
     "name": "stdout",
     "output_type": "stream",
     "text": [
      "[47]\tvalidation_0-logloss:0.65733\n",
      "[48]\tvalidation_0-logloss:0.65687\n",
      "[49]\tvalidation_0-logloss:0.65641\n",
      "[50]\tvalidation_0-logloss:0.65595\n",
      "[51]\tvalidation_0-logloss:0.65549\n",
      "[52]\tvalidation_0-logloss:0.65504\n",
      "[53]\tvalidation_0-logloss:0.65458\n",
      "[54]\tvalidation_0-logloss:0.65413\n",
      "[55]\tvalidation_0-logloss:0.65368\n",
      "[56]\tvalidation_0-logloss:0.65322\n",
      "[57]\tvalidation_0-logloss:0.65277\n",
      "[58]\tvalidation_0-logloss:0.65232\n",
      "[59]\tvalidation_0-logloss:0.65187\n",
      "[60]\tvalidation_0-logloss:0.65142\n",
      "[61]\tvalidation_0-logloss:0.65097\n",
      "[62]\tvalidation_0-logloss:0.65052\n",
      "[63]\tvalidation_0-logloss:0.65008\n",
      "[64]\tvalidation_0-logloss:0.64963\n",
      "[65]\tvalidation_0-logloss:0.64919\n",
      "[66]\tvalidation_0-logloss:0.64874\n",
      "[67]\tvalidation_0-logloss:0.64830\n",
      "[68]\tvalidation_0-logloss:0.64785\n",
      "[69]\tvalidation_0-logloss:0.64741\n",
      "[70]\tvalidation_0-logloss:0.64698\n",
      "[71]\tvalidation_0-logloss:0.64653\n",
      "[72]\tvalidation_0-logloss:0.64610\n",
      "[73]\tvalidation_0-logloss:0.64566\n",
      "[74]\tvalidation_0-logloss:0.64522\n",
      "[75]\tvalidation_0-logloss:0.64479\n",
      "[76]\tvalidation_0-logloss:0.64435\n",
      "[77]\tvalidation_0-logloss:0.64392\n",
      "[78]\tvalidation_0-logloss:0.64349\n",
      "[79]\tvalidation_0-logloss:0.64305\n",
      "[80]\tvalidation_0-logloss:0.64262\n",
      "[81]\tvalidation_0-logloss:0.64219\n",
      "[82]\tvalidation_0-logloss:0.64176\n",
      "[83]\tvalidation_0-logloss:0.64134\n",
      "[84]\tvalidation_0-logloss:0.64091\n",
      "[85]\tvalidation_0-logloss:0.64048\n",
      "[86]\tvalidation_0-logloss:0.64006\n",
      "[87]\tvalidation_0-logloss:0.63963\n",
      "[88]\tvalidation_0-logloss:0.63921\n",
      "[89]\tvalidation_0-logloss:0.63879\n",
      "[90]\tvalidation_0-logloss:0.63836\n",
      "[91]\tvalidation_0-logloss:0.63794\n",
      "[92]\tvalidation_0-logloss:0.63752\n",
      "[93]\tvalidation_0-logloss:0.63711\n",
      "[94]\tvalidation_0-logloss:0.63668\n",
      "[95]\tvalidation_0-logloss:0.63627\n",
      "[96]\tvalidation_0-logloss:0.63585\n",
      "[97]\tvalidation_0-logloss:0.63544\n",
      "[98]\tvalidation_0-logloss:0.63503\n",
      "[99]\tvalidation_0-logloss:0.63461\n",
      "[100]\tvalidation_0-logloss:0.63420\n",
      "[101]\tvalidation_0-logloss:0.63379\n",
      "[102]\tvalidation_0-logloss:0.63338\n",
      "[103]\tvalidation_0-logloss:0.63297\n",
      "[104]\tvalidation_0-logloss:0.63256\n",
      "[105]\tvalidation_0-logloss:0.63216\n",
      "[106]\tvalidation_0-logloss:0.63175\n",
      "[107]\tvalidation_0-logloss:0.63135\n",
      "[108]\tvalidation_0-logloss:0.63094\n",
      "[109]\tvalidation_0-logloss:0.63054\n",
      "[110]\tvalidation_0-logloss:0.63013\n",
      "[111]\tvalidation_0-logloss:0.62973\n",
      "[112]\tvalidation_0-logloss:0.62933\n",
      "[113]\tvalidation_0-logloss:0.62892\n",
      "[114]\tvalidation_0-logloss:0.62853\n",
      "[115]\tvalidation_0-logloss:0.62813\n",
      "[116]\tvalidation_0-logloss:0.62773\n",
      "[117]\tvalidation_0-logloss:0.62733\n",
      "[118]\tvalidation_0-logloss:0.62693\n",
      "[119]\tvalidation_0-logloss:0.62653\n",
      "[120]\tvalidation_0-logloss:0.62614\n",
      "[121]\tvalidation_0-logloss:0.62574\n",
      "[122]\tvalidation_0-logloss:0.62535\n",
      "[123]\tvalidation_0-logloss:0.62496\n",
      "[124]\tvalidation_0-logloss:0.62456\n",
      "[125]\tvalidation_0-logloss:0.62417\n",
      "[126]\tvalidation_0-logloss:0.62378\n",
      "[127]\tvalidation_0-logloss:0.62339\n",
      "[128]\tvalidation_0-logloss:0.62300\n",
      "[129]\tvalidation_0-logloss:0.62261\n",
      "[130]\tvalidation_0-logloss:0.62222\n",
      "[131]\tvalidation_0-logloss:0.62184\n",
      "[132]\tvalidation_0-logloss:0.62145\n",
      "[133]\tvalidation_0-logloss:0.62107\n",
      "[134]\tvalidation_0-logloss:0.62068\n",
      "[135]\tvalidation_0-logloss:0.62029\n",
      "[136]\tvalidation_0-logloss:0.61991\n",
      "[137]\tvalidation_0-logloss:0.61952\n",
      "[138]\tvalidation_0-logloss:0.61915\n",
      "[139]\tvalidation_0-logloss:0.61876\n",
      "[140]\tvalidation_0-logloss:0.61838\n",
      "[141]\tvalidation_0-logloss:0.61800\n",
      "[142]\tvalidation_0-logloss:0.61763\n",
      "[143]\tvalidation_0-logloss:0.61725\n",
      "[144]\tvalidation_0-logloss:0.61688\n",
      "[145]\tvalidation_0-logloss:0.61651\n",
      "[146]\tvalidation_0-logloss:0.61614\n",
      "[147]\tvalidation_0-logloss:0.61576\n",
      "[148]\tvalidation_0-logloss:0.61539\n",
      "[149]\tvalidation_0-logloss:0.61502\n",
      "[150]\tvalidation_0-logloss:0.61465\n",
      "[151]\tvalidation_0-logloss:0.61428\n",
      "[152]\tvalidation_0-logloss:0.61391\n",
      "[153]\tvalidation_0-logloss:0.61355\n",
      "[154]\tvalidation_0-logloss:0.61318\n",
      "[155]\tvalidation_0-logloss:0.61282\n",
      "[156]\tvalidation_0-logloss:0.61245\n",
      "[157]\tvalidation_0-logloss:0.61208\n",
      "[158]\tvalidation_0-logloss:0.61172\n",
      "[159]\tvalidation_0-logloss:0.61135\n",
      "[160]\tvalidation_0-logloss:0.61098\n",
      "[161]\tvalidation_0-logloss:0.61062\n",
      "[162]\tvalidation_0-logloss:0.61026\n",
      "[163]\tvalidation_0-logloss:0.60990\n",
      "[164]\tvalidation_0-logloss:0.60954\n",
      "[165]\tvalidation_0-logloss:0.60918\n",
      "[166]\tvalidation_0-logloss:0.60882\n",
      "[167]\tvalidation_0-logloss:0.60845\n",
      "[168]\tvalidation_0-logloss:0.60810\n",
      "[169]\tvalidation_0-logloss:0.60774\n",
      "[170]\tvalidation_0-logloss:0.60738\n",
      "[171]\tvalidation_0-logloss:0.60703\n",
      "[172]\tvalidation_0-logloss:0.60667\n",
      "[173]\tvalidation_0-logloss:0.60632\n",
      "[174]\tvalidation_0-logloss:0.60596\n",
      "[175]\tvalidation_0-logloss:0.60561\n",
      "[176]\tvalidation_0-logloss:0.60525\n",
      "[177]\tvalidation_0-logloss:0.60490\n",
      "[178]\tvalidation_0-logloss:0.60455\n",
      "[179]\tvalidation_0-logloss:0.60420\n",
      "[180]\tvalidation_0-logloss:0.60384\n",
      "[181]\tvalidation_0-logloss:0.60349\n",
      "[182]\tvalidation_0-logloss:0.60314\n",
      "[183]\tvalidation_0-logloss:0.60279\n",
      "[184]\tvalidation_0-logloss:0.60244\n",
      "[185]\tvalidation_0-logloss:0.60210\n",
      "[186]\tvalidation_0-logloss:0.60174\n",
      "[187]\tvalidation_0-logloss:0.60140\n",
      "[188]\tvalidation_0-logloss:0.60106\n",
      "[189]\tvalidation_0-logloss:0.60071\n",
      "[190]\tvalidation_0-logloss:0.60036\n",
      "[191]\tvalidation_0-logloss:0.60002\n",
      "[192]\tvalidation_0-logloss:0.59967\n",
      "[193]\tvalidation_0-logloss:0.59933\n",
      "[194]\tvalidation_0-logloss:0.59899\n",
      "[195]\tvalidation_0-logloss:0.59865\n",
      "[196]\tvalidation_0-logloss:0.59831\n",
      "[197]\tvalidation_0-logloss:0.59797\n",
      "[198]\tvalidation_0-logloss:0.59763\n",
      "[199]\tvalidation_0-logloss:0.59729\n",
      "[200]\tvalidation_0-logloss:0.59695\n",
      "[201]\tvalidation_0-logloss:0.59661\n",
      "[202]\tvalidation_0-logloss:0.59628\n",
      "[203]\tvalidation_0-logloss:0.59594\n",
      "[204]\tvalidation_0-logloss:0.59560\n",
      "[205]\tvalidation_0-logloss:0.59527\n",
      "[206]\tvalidation_0-logloss:0.59493\n",
      "[207]\tvalidation_0-logloss:0.59460\n",
      "[208]\tvalidation_0-logloss:0.59426\n",
      "[209]\tvalidation_0-logloss:0.59393\n",
      "[210]\tvalidation_0-logloss:0.59360\n",
      "[211]\tvalidation_0-logloss:0.59327\n",
      "[212]\tvalidation_0-logloss:0.59294\n",
      "[213]\tvalidation_0-logloss:0.59261\n",
      "[214]\tvalidation_0-logloss:0.59228\n",
      "[215]\tvalidation_0-logloss:0.59195\n",
      "[216]\tvalidation_0-logloss:0.59162\n",
      "[217]\tvalidation_0-logloss:0.59129\n",
      "[218]\tvalidation_0-logloss:0.59097\n",
      "[219]\tvalidation_0-logloss:0.59064\n",
      "[220]\tvalidation_0-logloss:0.59031\n",
      "[221]\tvalidation_0-logloss:0.58998\n",
      "[222]\tvalidation_0-logloss:0.58966\n",
      "[223]\tvalidation_0-logloss:0.58933\n",
      "[224]\tvalidation_0-logloss:0.58901\n",
      "[225]\tvalidation_0-logloss:0.58869\n",
      "[226]\tvalidation_0-logloss:0.58837\n",
      "[227]\tvalidation_0-logloss:0.58805\n",
      "[228]\tvalidation_0-logloss:0.58773\n",
      "[229]\tvalidation_0-logloss:0.58741\n",
      "[230]\tvalidation_0-logloss:0.58708\n",
      "[231]\tvalidation_0-logloss:0.58676\n",
      "[232]\tvalidation_0-logloss:0.58645\n",
      "[233]\tvalidation_0-logloss:0.58613\n",
      "[234]\tvalidation_0-logloss:0.58581\n",
      "[235]\tvalidation_0-logloss:0.58549\n",
      "[236]\tvalidation_0-logloss:0.58517\n",
      "[237]\tvalidation_0-logloss:0.58486\n",
      "[238]\tvalidation_0-logloss:0.58454\n",
      "[239]\tvalidation_0-logloss:0.58423\n",
      "[240]\tvalidation_0-logloss:0.58391\n",
      "[241]\tvalidation_0-logloss:0.58360\n",
      "[242]\tvalidation_0-logloss:0.58329\n",
      "[243]\tvalidation_0-logloss:0.58298\n",
      "[244]\tvalidation_0-logloss:0.58266\n",
      "[245]\tvalidation_0-logloss:0.58236\n",
      "[246]\tvalidation_0-logloss:0.58204\n",
      "[247]\tvalidation_0-logloss:0.58173\n",
      "[248]\tvalidation_0-logloss:0.58142\n",
      "[249]\tvalidation_0-logloss:0.58112\n",
      "[250]\tvalidation_0-logloss:0.58080\n",
      "[251]\tvalidation_0-logloss:0.58050\n",
      "[252]\tvalidation_0-logloss:0.58019\n",
      "[253]\tvalidation_0-logloss:0.57988\n",
      "[254]\tvalidation_0-logloss:0.57957\n",
      "[255]\tvalidation_0-logloss:0.57926\n",
      "[256]\tvalidation_0-logloss:0.57896\n",
      "[257]\tvalidation_0-logloss:0.57866\n",
      "[258]\tvalidation_0-logloss:0.57836\n",
      "[259]\tvalidation_0-logloss:0.57805\n",
      "[260]\tvalidation_0-logloss:0.57775\n",
      "[261]\tvalidation_0-logloss:0.57744\n",
      "[262]\tvalidation_0-logloss:0.57714\n",
      "[263]\tvalidation_0-logloss:0.57684\n",
      "[264]\tvalidation_0-logloss:0.57654\n",
      "[265]\tvalidation_0-logloss:0.57624\n",
      "[266]\tvalidation_0-logloss:0.57594\n",
      "[267]\tvalidation_0-logloss:0.57565\n",
      "[268]\tvalidation_0-logloss:0.57535\n",
      "[269]\tvalidation_0-logloss:0.57505\n",
      "[270]\tvalidation_0-logloss:0.57475\n",
      "[271]\tvalidation_0-logloss:0.57445\n",
      "[272]\tvalidation_0-logloss:0.57415\n",
      "[273]\tvalidation_0-logloss:0.57386\n",
      "[274]\tvalidation_0-logloss:0.57357\n",
      "[275]\tvalidation_0-logloss:0.57327\n",
      "[276]\tvalidation_0-logloss:0.57297\n",
      "[277]\tvalidation_0-logloss:0.57268\n",
      "[278]\tvalidation_0-logloss:0.57239\n",
      "[279]\tvalidation_0-logloss:0.57210\n",
      "[280]\tvalidation_0-logloss:0.57180\n",
      "[281]\tvalidation_0-logloss:0.57151\n",
      "[282]\tvalidation_0-logloss:0.57122\n"
     ]
    },
    {
     "name": "stdout",
     "output_type": "stream",
     "text": [
      "[283]\tvalidation_0-logloss:0.57093\n",
      "[284]\tvalidation_0-logloss:0.57064\n",
      "[285]\tvalidation_0-logloss:0.57035\n",
      "[286]\tvalidation_0-logloss:0.57006\n",
      "[287]\tvalidation_0-logloss:0.56978\n",
      "[288]\tvalidation_0-logloss:0.56948\n",
      "[289]\tvalidation_0-logloss:0.56920\n",
      "[290]\tvalidation_0-logloss:0.56891\n",
      "[291]\tvalidation_0-logloss:0.56862\n",
      "[292]\tvalidation_0-logloss:0.56834\n",
      "[293]\tvalidation_0-logloss:0.56805\n",
      "[294]\tvalidation_0-logloss:0.56777\n",
      "[295]\tvalidation_0-logloss:0.56748\n",
      "[296]\tvalidation_0-logloss:0.56720\n",
      "[297]\tvalidation_0-logloss:0.56692\n",
      "[298]\tvalidation_0-logloss:0.56663\n",
      "[299]\tvalidation_0-logloss:0.56635\n",
      "[300]\tvalidation_0-logloss:0.56607\n",
      "[301]\tvalidation_0-logloss:0.56579\n",
      "[302]\tvalidation_0-logloss:0.56551\n",
      "[303]\tvalidation_0-logloss:0.56523\n",
      "[304]\tvalidation_0-logloss:0.56494\n",
      "[305]\tvalidation_0-logloss:0.56467\n",
      "[306]\tvalidation_0-logloss:0.56438\n",
      "[307]\tvalidation_0-logloss:0.56411\n",
      "[308]\tvalidation_0-logloss:0.56383\n",
      "[309]\tvalidation_0-logloss:0.56356\n",
      "[310]\tvalidation_0-logloss:0.56328\n",
      "[311]\tvalidation_0-logloss:0.56300\n",
      "[312]\tvalidation_0-logloss:0.56273\n",
      "[313]\tvalidation_0-logloss:0.56245\n",
      "[314]\tvalidation_0-logloss:0.56218\n",
      "[315]\tvalidation_0-logloss:0.56190\n",
      "[316]\tvalidation_0-logloss:0.56162\n",
      "[317]\tvalidation_0-logloss:0.56135\n",
      "[318]\tvalidation_0-logloss:0.56108\n",
      "[319]\tvalidation_0-logloss:0.56081\n",
      "[320]\tvalidation_0-logloss:0.56054\n",
      "[321]\tvalidation_0-logloss:0.56026\n",
      "[322]\tvalidation_0-logloss:0.55999\n",
      "[323]\tvalidation_0-logloss:0.55972\n",
      "[324]\tvalidation_0-logloss:0.55945\n",
      "[325]\tvalidation_0-logloss:0.55918\n",
      "[326]\tvalidation_0-logloss:0.55891\n",
      "[327]\tvalidation_0-logloss:0.55864\n",
      "[328]\tvalidation_0-logloss:0.55838\n",
      "[329]\tvalidation_0-logloss:0.55811\n",
      "[330]\tvalidation_0-logloss:0.55784\n",
      "[331]\tvalidation_0-logloss:0.55757\n",
      "[332]\tvalidation_0-logloss:0.55730\n",
      "[333]\tvalidation_0-logloss:0.55704\n",
      "[334]\tvalidation_0-logloss:0.55678\n",
      "[335]\tvalidation_0-logloss:0.55652\n",
      "[336]\tvalidation_0-logloss:0.55625\n",
      "[337]\tvalidation_0-logloss:0.55599\n",
      "[338]\tvalidation_0-logloss:0.55572\n",
      "[339]\tvalidation_0-logloss:0.55546\n",
      "[340]\tvalidation_0-logloss:0.55519\n",
      "[341]\tvalidation_0-logloss:0.55493\n",
      "[342]\tvalidation_0-logloss:0.55467\n",
      "[343]\tvalidation_0-logloss:0.55441\n",
      "[344]\tvalidation_0-logloss:0.55415\n",
      "[345]\tvalidation_0-logloss:0.55389\n",
      "[346]\tvalidation_0-logloss:0.55363\n",
      "[347]\tvalidation_0-logloss:0.55337\n",
      "[348]\tvalidation_0-logloss:0.55311\n",
      "[349]\tvalidation_0-logloss:0.55285\n",
      "[350]\tvalidation_0-logloss:0.55259\n",
      "[351]\tvalidation_0-logloss:0.55234\n",
      "[352]\tvalidation_0-logloss:0.55208\n",
      "[353]\tvalidation_0-logloss:0.55182\n",
      "[354]\tvalidation_0-logloss:0.55156\n",
      "[355]\tvalidation_0-logloss:0.55131\n",
      "[356]\tvalidation_0-logloss:0.55105\n",
      "[357]\tvalidation_0-logloss:0.55080\n",
      "[358]\tvalidation_0-logloss:0.55054\n",
      "[359]\tvalidation_0-logloss:0.55029\n",
      "[360]\tvalidation_0-logloss:0.55004\n",
      "[361]\tvalidation_0-logloss:0.54979\n",
      "[362]\tvalidation_0-logloss:0.54953\n",
      "[363]\tvalidation_0-logloss:0.54928\n",
      "[364]\tvalidation_0-logloss:0.54903\n",
      "[365]\tvalidation_0-logloss:0.54878\n",
      "[366]\tvalidation_0-logloss:0.54853\n",
      "[367]\tvalidation_0-logloss:0.54827\n",
      "[368]\tvalidation_0-logloss:0.54803\n",
      "[369]\tvalidation_0-logloss:0.54778\n",
      "[370]\tvalidation_0-logloss:0.54753\n",
      "[371]\tvalidation_0-logloss:0.54728\n",
      "[372]\tvalidation_0-logloss:0.54703\n",
      "[373]\tvalidation_0-logloss:0.54679\n",
      "[374]\tvalidation_0-logloss:0.54654\n",
      "[375]\tvalidation_0-logloss:0.54629\n",
      "[376]\tvalidation_0-logloss:0.54604\n",
      "[377]\tvalidation_0-logloss:0.54580\n",
      "[378]\tvalidation_0-logloss:0.54555\n",
      "[379]\tvalidation_0-logloss:0.54531\n",
      "[380]\tvalidation_0-logloss:0.54506\n",
      "[381]\tvalidation_0-logloss:0.54481\n",
      "[382]\tvalidation_0-logloss:0.54456\n",
      "[383]\tvalidation_0-logloss:0.54432\n",
      "[384]\tvalidation_0-logloss:0.54408\n",
      "[385]\tvalidation_0-logloss:0.54384\n",
      "[386]\tvalidation_0-logloss:0.54359\n",
      "[387]\tvalidation_0-logloss:0.54335\n",
      "[388]\tvalidation_0-logloss:0.54310\n",
      "[389]\tvalidation_0-logloss:0.54286\n",
      "[390]\tvalidation_0-logloss:0.54262\n",
      "[391]\tvalidation_0-logloss:0.54239\n",
      "[392]\tvalidation_0-logloss:0.54216\n",
      "[393]\tvalidation_0-logloss:0.54191\n",
      "[394]\tvalidation_0-logloss:0.54169\n",
      "[395]\tvalidation_0-logloss:0.54145\n",
      "[396]\tvalidation_0-logloss:0.54122\n",
      "[397]\tvalidation_0-logloss:0.54100\n",
      "[398]\tvalidation_0-logloss:0.54076\n",
      "[399]\tvalidation_0-logloss:0.54052\n",
      "[400]\tvalidation_0-logloss:0.54030\n",
      "[401]\tvalidation_0-logloss:0.54006\n",
      "[402]\tvalidation_0-logloss:0.53983\n",
      "[403]\tvalidation_0-logloss:0.53961\n",
      "[404]\tvalidation_0-logloss:0.53938\n",
      "[405]\tvalidation_0-logloss:0.53914\n",
      "[406]\tvalidation_0-logloss:0.53892\n",
      "[407]\tvalidation_0-logloss:0.53868\n",
      "[408]\tvalidation_0-logloss:0.53845\n",
      "[409]\tvalidation_0-logloss:0.53824\n",
      "[410]\tvalidation_0-logloss:0.53801\n",
      "[411]\tvalidation_0-logloss:0.53777\n",
      "[412]\tvalidation_0-logloss:0.53756\n",
      "[413]\tvalidation_0-logloss:0.53732\n",
      "[414]\tvalidation_0-logloss:0.53710\n",
      "[415]\tvalidation_0-logloss:0.53688\n",
      "[416]\tvalidation_0-logloss:0.53665\n",
      "[417]\tvalidation_0-logloss:0.53642\n",
      "[418]\tvalidation_0-logloss:0.53620\n",
      "[419]\tvalidation_0-logloss:0.53598\n",
      "[420]\tvalidation_0-logloss:0.53574\n",
      "[421]\tvalidation_0-logloss:0.53553\n",
      "[422]\tvalidation_0-logloss:0.53530\n",
      "[423]\tvalidation_0-logloss:0.53507\n",
      "[424]\tvalidation_0-logloss:0.53484\n",
      "[425]\tvalidation_0-logloss:0.53463\n",
      "[426]\tvalidation_0-logloss:0.53440\n",
      "[427]\tvalidation_0-logloss:0.53417\n",
      "[428]\tvalidation_0-logloss:0.53396\n",
      "[429]\tvalidation_0-logloss:0.53374\n",
      "[430]\tvalidation_0-logloss:0.53351\n",
      "[431]\tvalidation_0-logloss:0.53330\n",
      "[432]\tvalidation_0-logloss:0.53307\n",
      "[433]\tvalidation_0-logloss:0.53286\n",
      "[434]\tvalidation_0-logloss:0.53263\n",
      "[435]\tvalidation_0-logloss:0.53243\n",
      "[436]\tvalidation_0-logloss:0.53220\n",
      "[437]\tvalidation_0-logloss:0.53199\n",
      "[438]\tvalidation_0-logloss:0.53176\n",
      "[439]\tvalidation_0-logloss:0.53154\n",
      "[440]\tvalidation_0-logloss:0.53133\n",
      "[441]\tvalidation_0-logloss:0.53111\n",
      "[442]\tvalidation_0-logloss:0.53090\n",
      "[443]\tvalidation_0-logloss:0.53068\n",
      "[444]\tvalidation_0-logloss:0.53048\n",
      "[445]\tvalidation_0-logloss:0.53025\n",
      "[446]\tvalidation_0-logloss:0.53004\n",
      "[447]\tvalidation_0-logloss:0.52982\n",
      "[448]\tvalidation_0-logloss:0.52960\n",
      "[449]\tvalidation_0-logloss:0.52939\n",
      "[450]\tvalidation_0-logloss:0.52918\n",
      "[451]\tvalidation_0-logloss:0.52897\n",
      "[452]\tvalidation_0-logloss:0.52875\n",
      "[453]\tvalidation_0-logloss:0.52854\n",
      "[454]\tvalidation_0-logloss:0.52833\n",
      "[455]\tvalidation_0-logloss:0.52813\n",
      "[456]\tvalidation_0-logloss:0.52791\n",
      "[457]\tvalidation_0-logloss:0.52769\n",
      "[458]\tvalidation_0-logloss:0.52749\n",
      "[459]\tvalidation_0-logloss:0.52727\n",
      "[460]\tvalidation_0-logloss:0.52707\n",
      "[461]\tvalidation_0-logloss:0.52686\n",
      "[462]\tvalidation_0-logloss:0.52664\n",
      "[463]\tvalidation_0-logloss:0.52644\n",
      "[464]\tvalidation_0-logloss:0.52623\n",
      "[465]\tvalidation_0-logloss:0.52603\n",
      "[466]\tvalidation_0-logloss:0.52582\n",
      "[467]\tvalidation_0-logloss:0.52561\n",
      "[468]\tvalidation_0-logloss:0.52541\n",
      "[469]\tvalidation_0-logloss:0.52519\n",
      "[470]\tvalidation_0-logloss:0.52501\n",
      "[471]\tvalidation_0-logloss:0.52480\n",
      "[472]\tvalidation_0-logloss:0.52459\n",
      "[473]\tvalidation_0-logloss:0.52439\n",
      "[474]\tvalidation_0-logloss:0.52420\n",
      "[475]\tvalidation_0-logloss:0.52399\n",
      "[476]\tvalidation_0-logloss:0.52381\n",
      "[477]\tvalidation_0-logloss:0.52359\n",
      "[478]\tvalidation_0-logloss:0.52339\n",
      "[479]\tvalidation_0-logloss:0.52319\n",
      "[480]\tvalidation_0-logloss:0.52301\n",
      "[481]\tvalidation_0-logloss:0.52279\n",
      "[482]\tvalidation_0-logloss:0.52259\n",
      "[483]\tvalidation_0-logloss:0.52241\n",
      "[484]\tvalidation_0-logloss:0.52221\n",
      "[485]\tvalidation_0-logloss:0.52201\n",
      "[486]\tvalidation_0-logloss:0.52182\n",
      "[487]\tvalidation_0-logloss:0.52163\n",
      "[488]\tvalidation_0-logloss:0.52142\n",
      "[489]\tvalidation_0-logloss:0.52123\n",
      "[490]\tvalidation_0-logloss:0.52104\n",
      "[491]\tvalidation_0-logloss:0.52085\n",
      "[492]\tvalidation_0-logloss:0.52063\n",
      "[493]\tvalidation_0-logloss:0.52046\n",
      "[494]\tvalidation_0-logloss:0.52026\n",
      "[495]\tvalidation_0-logloss:0.52006\n",
      "[496]\tvalidation_0-logloss:0.51988\n",
      "[497]\tvalidation_0-logloss:0.51968\n",
      "[498]\tvalidation_0-logloss:0.51949\n",
      "[499]\tvalidation_0-logloss:0.51928\n",
      "[500]\tvalidation_0-logloss:0.51910\n",
      "[501]\tvalidation_0-logloss:0.51892\n",
      "[502]\tvalidation_0-logloss:0.51871\n",
      "[503]\tvalidation_0-logloss:0.51854\n",
      "[504]\tvalidation_0-logloss:0.51834\n",
      "[505]\tvalidation_0-logloss:0.51815\n",
      "[506]\tvalidation_0-logloss:0.51795\n",
      "[507]\tvalidation_0-logloss:0.51778\n",
      "[508]\tvalidation_0-logloss:0.51757\n",
      "[509]\tvalidation_0-logloss:0.51738\n",
      "[510]\tvalidation_0-logloss:0.51720\n",
      "[511]\tvalidation_0-logloss:0.51701\n",
      "[512]\tvalidation_0-logloss:0.51682\n",
      "[513]\tvalidation_0-logloss:0.51665\n",
      "[514]\tvalidation_0-logloss:0.51645\n",
      "[515]\tvalidation_0-logloss:0.51627\n",
      "[516]\tvalidation_0-logloss:0.51610\n",
      "[517]\tvalidation_0-logloss:0.51590\n"
     ]
    },
    {
     "name": "stdout",
     "output_type": "stream",
     "text": [
      "[518]\tvalidation_0-logloss:0.51571\n",
      "[519]\tvalidation_0-logloss:0.51554\n",
      "[520]\tvalidation_0-logloss:0.51535\n",
      "[521]\tvalidation_0-logloss:0.51518\n",
      "[522]\tvalidation_0-logloss:0.51499\n",
      "[523]\tvalidation_0-logloss:0.51480\n",
      "[524]\tvalidation_0-logloss:0.51463\n",
      "[525]\tvalidation_0-logloss:0.51445\n",
      "[526]\tvalidation_0-logloss:0.51425\n",
      "[527]\tvalidation_0-logloss:0.51408\n",
      "[528]\tvalidation_0-logloss:0.51388\n",
      "[529]\tvalidation_0-logloss:0.51370\n",
      "[530]\tvalidation_0-logloss:0.51352\n",
      "[531]\tvalidation_0-logloss:0.51335\n",
      "[532]\tvalidation_0-logloss:0.51315\n",
      "[533]\tvalidation_0-logloss:0.51298\n",
      "[534]\tvalidation_0-logloss:0.51281\n",
      "[535]\tvalidation_0-logloss:0.51261\n",
      "[536]\tvalidation_0-logloss:0.51245\n",
      "[537]\tvalidation_0-logloss:0.51226\n",
      "[538]\tvalidation_0-logloss:0.51208\n",
      "[539]\tvalidation_0-logloss:0.51191\n",
      "[540]\tvalidation_0-logloss:0.51172\n",
      "[541]\tvalidation_0-logloss:0.51156\n",
      "[542]\tvalidation_0-logloss:0.51137\n",
      "[543]\tvalidation_0-logloss:0.51119\n",
      "[544]\tvalidation_0-logloss:0.51101\n",
      "[545]\tvalidation_0-logloss:0.51083\n",
      "[546]\tvalidation_0-logloss:0.51064\n",
      "[547]\tvalidation_0-logloss:0.51048\n",
      "[548]\tvalidation_0-logloss:0.51030\n",
      "[549]\tvalidation_0-logloss:0.51012\n",
      "[550]\tvalidation_0-logloss:0.50995\n",
      "[551]\tvalidation_0-logloss:0.50977\n",
      "[552]\tvalidation_0-logloss:0.50960\n",
      "[553]\tvalidation_0-logloss:0.50942\n",
      "[554]\tvalidation_0-logloss:0.50924\n",
      "[555]\tvalidation_0-logloss:0.50907\n",
      "[556]\tvalidation_0-logloss:0.50890\n",
      "[557]\tvalidation_0-logloss:0.50872\n",
      "[558]\tvalidation_0-logloss:0.50856\n",
      "[559]\tvalidation_0-logloss:0.50837\n",
      "[560]\tvalidation_0-logloss:0.50821\n",
      "[561]\tvalidation_0-logloss:0.50802\n",
      "[562]\tvalidation_0-logloss:0.50785\n",
      "[563]\tvalidation_0-logloss:0.50767\n",
      "[564]\tvalidation_0-logloss:0.50751\n",
      "[565]\tvalidation_0-logloss:0.50733\n",
      "[566]\tvalidation_0-logloss:0.50717\n",
      "[567]\tvalidation_0-logloss:0.50699\n",
      "[568]\tvalidation_0-logloss:0.50682\n",
      "[569]\tvalidation_0-logloss:0.50665\n",
      "[570]\tvalidation_0-logloss:0.50648\n",
      "[571]\tvalidation_0-logloss:0.50631\n",
      "[572]\tvalidation_0-logloss:0.50614\n",
      "[573]\tvalidation_0-logloss:0.50598\n",
      "[574]\tvalidation_0-logloss:0.50581\n",
      "[575]\tvalidation_0-logloss:0.50564\n",
      "[576]\tvalidation_0-logloss:0.50548\n",
      "[577]\tvalidation_0-logloss:0.50530\n",
      "[578]\tvalidation_0-logloss:0.50513\n",
      "[579]\tvalidation_0-logloss:0.50495\n",
      "[580]\tvalidation_0-logloss:0.50479\n",
      "[581]\tvalidation_0-logloss:0.50461\n",
      "[582]\tvalidation_0-logloss:0.50446\n",
      "[583]\tvalidation_0-logloss:0.50429\n",
      "[584]\tvalidation_0-logloss:0.50413\n",
      "[585]\tvalidation_0-logloss:0.50394\n",
      "[586]\tvalidation_0-logloss:0.50379\n",
      "[587]\tvalidation_0-logloss:0.50362\n",
      "[588]\tvalidation_0-logloss:0.50346\n",
      "[589]\tvalidation_0-logloss:0.50328\n",
      "[590]\tvalidation_0-logloss:0.50313\n",
      "[591]\tvalidation_0-logloss:0.50297\n",
      "[592]\tvalidation_0-logloss:0.50279\n",
      "[593]\tvalidation_0-logloss:0.50264\n",
      "[594]\tvalidation_0-logloss:0.50248\n",
      "[595]\tvalidation_0-logloss:0.50231\n",
      "[596]\tvalidation_0-logloss:0.50214\n",
      "[597]\tvalidation_0-logloss:0.50197\n",
      "[598]\tvalidation_0-logloss:0.50182\n",
      "[599]\tvalidation_0-logloss:0.50165\n",
      "[600]\tvalidation_0-logloss:0.50149\n",
      "[601]\tvalidation_0-logloss:0.50131\n",
      "[602]\tvalidation_0-logloss:0.50116\n",
      "[603]\tvalidation_0-logloss:0.50098\n",
      "[604]\tvalidation_0-logloss:0.50082\n",
      "[605]\tvalidation_0-logloss:0.50066\n",
      "[606]\tvalidation_0-logloss:0.50049\n",
      "[607]\tvalidation_0-logloss:0.50032\n",
      "[608]\tvalidation_0-logloss:0.50018\n",
      "[609]\tvalidation_0-logloss:0.50001\n",
      "[610]\tvalidation_0-logloss:0.49984\n",
      "[611]\tvalidation_0-logloss:0.49970\n",
      "[612]\tvalidation_0-logloss:0.49952\n",
      "[613]\tvalidation_0-logloss:0.49936\n",
      "[614]\tvalidation_0-logloss:0.49920\n",
      "[615]\tvalidation_0-logloss:0.49904\n",
      "[616]\tvalidation_0-logloss:0.49887\n",
      "[617]\tvalidation_0-logloss:0.49873\n",
      "[618]\tvalidation_0-logloss:0.49855\n",
      "[619]\tvalidation_0-logloss:0.49841\n",
      "[620]\tvalidation_0-logloss:0.49823\n",
      "[621]\tvalidation_0-logloss:0.49808\n",
      "[622]\tvalidation_0-logloss:0.49792\n",
      "[623]\tvalidation_0-logloss:0.49776\n",
      "[624]\tvalidation_0-logloss:0.49761\n",
      "[625]\tvalidation_0-logloss:0.49744\n",
      "[626]\tvalidation_0-logloss:0.49730\n",
      "[627]\tvalidation_0-logloss:0.49712\n",
      "[628]\tvalidation_0-logloss:0.49697\n",
      "[629]\tvalidation_0-logloss:0.49682\n",
      "[630]\tvalidation_0-logloss:0.49666\n",
      "[631]\tvalidation_0-logloss:0.49650\n",
      "[632]\tvalidation_0-logloss:0.49635\n",
      "[633]\tvalidation_0-logloss:0.49620\n",
      "[634]\tvalidation_0-logloss:0.49603\n",
      "[635]\tvalidation_0-logloss:0.49589\n",
      "[636]\tvalidation_0-logloss:0.49572\n",
      "[637]\tvalidation_0-logloss:0.49557\n",
      "[638]\tvalidation_0-logloss:0.49541\n",
      "[639]\tvalidation_0-logloss:0.49526\n",
      "[640]\tvalidation_0-logloss:0.49510\n",
      "[641]\tvalidation_0-logloss:0.49495\n",
      "[642]\tvalidation_0-logloss:0.49479\n",
      "[643]\tvalidation_0-logloss:0.49465\n",
      "[644]\tvalidation_0-logloss:0.49448\n",
      "[645]\tvalidation_0-logloss:0.49433\n",
      "[646]\tvalidation_0-logloss:0.49418\n",
      "[647]\tvalidation_0-logloss:0.49403\n",
      "[648]\tvalidation_0-logloss:0.49387\n",
      "[649]\tvalidation_0-logloss:0.49373\n",
      "[650]\tvalidation_0-logloss:0.49357\n",
      "[651]\tvalidation_0-logloss:0.49343\n",
      "[652]\tvalidation_0-logloss:0.49329\n",
      "[653]\tvalidation_0-logloss:0.49312\n",
      "[654]\tvalidation_0-logloss:0.49298\n",
      "[655]\tvalidation_0-logloss:0.49283\n",
      "[656]\tvalidation_0-logloss:0.49268\n",
      "[657]\tvalidation_0-logloss:0.49253\n",
      "[658]\tvalidation_0-logloss:0.49239\n",
      "[659]\tvalidation_0-logloss:0.49224\n",
      "[660]\tvalidation_0-logloss:0.49209\n",
      "[661]\tvalidation_0-logloss:0.49196\n",
      "[662]\tvalidation_0-logloss:0.49179\n",
      "[663]\tvalidation_0-logloss:0.49165\n",
      "[664]\tvalidation_0-logloss:0.49152\n",
      "[665]\tvalidation_0-logloss:0.49139\n",
      "[666]\tvalidation_0-logloss:0.49124\n",
      "[667]\tvalidation_0-logloss:0.49109\n",
      "[668]\tvalidation_0-logloss:0.49095\n",
      "[669]\tvalidation_0-logloss:0.49083\n",
      "[670]\tvalidation_0-logloss:0.49070\n",
      "[671]\tvalidation_0-logloss:0.49054\n",
      "[672]\tvalidation_0-logloss:0.49041\n",
      "[673]\tvalidation_0-logloss:0.49027\n",
      "[674]\tvalidation_0-logloss:0.49014\n",
      "[675]\tvalidation_0-logloss:0.49002\n",
      "[676]\tvalidation_0-logloss:0.48988\n",
      "[677]\tvalidation_0-logloss:0.48975\n",
      "[678]\tvalidation_0-logloss:0.48961\n",
      "[679]\tvalidation_0-logloss:0.48949\n",
      "[680]\tvalidation_0-logloss:0.48935\n",
      "[681]\tvalidation_0-logloss:0.48921\n",
      "[682]\tvalidation_0-logloss:0.48908\n",
      "[683]\tvalidation_0-logloss:0.48895\n",
      "[684]\tvalidation_0-logloss:0.48883\n",
      "[685]\tvalidation_0-logloss:0.48869\n",
      "[686]\tvalidation_0-logloss:0.48857\n",
      "[687]\tvalidation_0-logloss:0.48843\n",
      "[688]\tvalidation_0-logloss:0.48828\n",
      "[689]\tvalidation_0-logloss:0.48816\n",
      "[690]\tvalidation_0-logloss:0.48803\n",
      "[691]\tvalidation_0-logloss:0.48791\n",
      "[692]\tvalidation_0-logloss:0.48778\n",
      "[693]\tvalidation_0-logloss:0.48765\n",
      "[694]\tvalidation_0-logloss:0.48752\n",
      "[695]\tvalidation_0-logloss:0.48737\n",
      "[696]\tvalidation_0-logloss:0.48725\n",
      "[697]\tvalidation_0-logloss:0.48710\n",
      "[698]\tvalidation_0-logloss:0.48698\n",
      "[699]\tvalidation_0-logloss:0.48685\n",
      "[700]\tvalidation_0-logloss:0.48672\n",
      "[701]\tvalidation_0-logloss:0.48660\n",
      "[702]\tvalidation_0-logloss:0.48648\n",
      "[703]\tvalidation_0-logloss:0.48635\n",
      "[704]\tvalidation_0-logloss:0.48622\n",
      "[705]\tvalidation_0-logloss:0.48610\n",
      "[706]\tvalidation_0-logloss:0.48597\n",
      "[707]\tvalidation_0-logloss:0.48585\n",
      "[708]\tvalidation_0-logloss:0.48572\n",
      "[709]\tvalidation_0-logloss:0.48560\n",
      "[710]\tvalidation_0-logloss:0.48548\n",
      "[711]\tvalidation_0-logloss:0.48535\n",
      "[712]\tvalidation_0-logloss:0.48523\n",
      "[713]\tvalidation_0-logloss:0.48510\n",
      "[714]\tvalidation_0-logloss:0.48498\n",
      "[715]\tvalidation_0-logloss:0.48484\n",
      "[716]\tvalidation_0-logloss:0.48472\n",
      "[717]\tvalidation_0-logloss:0.48459\n",
      "[718]\tvalidation_0-logloss:0.48448\n",
      "[719]\tvalidation_0-logloss:0.48435\n",
      "[720]\tvalidation_0-logloss:0.48421\n",
      "[721]\tvalidation_0-logloss:0.48408\n",
      "[722]\tvalidation_0-logloss:0.48397\n",
      "[723]\tvalidation_0-logloss:0.48385\n",
      "[724]\tvalidation_0-logloss:0.48373\n",
      "[725]\tvalidation_0-logloss:0.48361\n",
      "[726]\tvalidation_0-logloss:0.48349\n",
      "[727]\tvalidation_0-logloss:0.48336\n",
      "[728]\tvalidation_0-logloss:0.48323\n",
      "[729]\tvalidation_0-logloss:0.48311\n",
      "[730]\tvalidation_0-logloss:0.48299\n",
      "[731]\tvalidation_0-logloss:0.48288\n",
      "[732]\tvalidation_0-logloss:0.48275\n",
      "[733]\tvalidation_0-logloss:0.48263\n",
      "[734]\tvalidation_0-logloss:0.48251\n",
      "[735]\tvalidation_0-logloss:0.48237\n",
      "[736]\tvalidation_0-logloss:0.48226\n",
      "[737]\tvalidation_0-logloss:0.48214\n",
      "[738]\tvalidation_0-logloss:0.48202\n",
      "[739]\tvalidation_0-logloss:0.48190\n",
      "[740]\tvalidation_0-logloss:0.48175\n",
      "[741]\tvalidation_0-logloss:0.48164\n",
      "[742]\tvalidation_0-logloss:0.48153\n",
      "[743]\tvalidation_0-logloss:0.48143\n",
      "[744]\tvalidation_0-logloss:0.48130\n",
      "[745]\tvalidation_0-logloss:0.48117\n",
      "[746]\tvalidation_0-logloss:0.48107\n",
      "[747]\tvalidation_0-logloss:0.48096\n",
      "[748]\tvalidation_0-logloss:0.48083\n",
      "[749]\tvalidation_0-logloss:0.48073\n",
      "[750]\tvalidation_0-logloss:0.48062\n",
      "[751]\tvalidation_0-logloss:0.48048\n",
      "[752]\tvalidation_0-logloss:0.48038\n"
     ]
    },
    {
     "name": "stdout",
     "output_type": "stream",
     "text": [
      "[753]\tvalidation_0-logloss:0.48026\n",
      "[754]\tvalidation_0-logloss:0.48016\n",
      "[755]\tvalidation_0-logloss:0.48004\n",
      "[756]\tvalidation_0-logloss:0.47991\n",
      "[757]\tvalidation_0-logloss:0.47979\n",
      "[758]\tvalidation_0-logloss:0.47969\n",
      "[759]\tvalidation_0-logloss:0.47958\n",
      "[760]\tvalidation_0-logloss:0.47947\n",
      "[761]\tvalidation_0-logloss:0.47935\n",
      "[762]\tvalidation_0-logloss:0.47924\n",
      "[763]\tvalidation_0-logloss:0.47913\n",
      "[764]\tvalidation_0-logloss:0.47902\n",
      "[765]\tvalidation_0-logloss:0.47891\n",
      "[766]\tvalidation_0-logloss:0.47880\n",
      "[767]\tvalidation_0-logloss:0.47868\n",
      "[768]\tvalidation_0-logloss:0.47856\n",
      "[769]\tvalidation_0-logloss:0.47846\n",
      "[770]\tvalidation_0-logloss:0.47834\n",
      "[771]\tvalidation_0-logloss:0.47825\n",
      "[772]\tvalidation_0-logloss:0.47814\n",
      "[773]\tvalidation_0-logloss:0.47801\n",
      "[774]\tvalidation_0-logloss:0.47791\n",
      "[775]\tvalidation_0-logloss:0.47780\n",
      "[776]\tvalidation_0-logloss:0.47768\n",
      "[777]\tvalidation_0-logloss:0.47757\n",
      "[778]\tvalidation_0-logloss:0.47746\n",
      "[779]\tvalidation_0-logloss:0.47735\n",
      "[780]\tvalidation_0-logloss:0.47724\n",
      "[781]\tvalidation_0-logloss:0.47713\n",
      "[782]\tvalidation_0-logloss:0.47702\n",
      "[783]\tvalidation_0-logloss:0.47691\n",
      "[784]\tvalidation_0-logloss:0.47680\n",
      "[785]\tvalidation_0-logloss:0.47670\n",
      "[786]\tvalidation_0-logloss:0.47659\n",
      "[787]\tvalidation_0-logloss:0.47648\n",
      "[788]\tvalidation_0-logloss:0.47637\n",
      "[789]\tvalidation_0-logloss:0.47627\n",
      "[790]\tvalidation_0-logloss:0.47617\n",
      "[791]\tvalidation_0-logloss:0.47606\n",
      "[792]\tvalidation_0-logloss:0.47595\n",
      "[793]\tvalidation_0-logloss:0.47584\n",
      "[794]\tvalidation_0-logloss:0.47573\n",
      "[795]\tvalidation_0-logloss:0.47562\n",
      "[796]\tvalidation_0-logloss:0.47552\n",
      "[797]\tvalidation_0-logloss:0.47541\n",
      "[798]\tvalidation_0-logloss:0.47531\n",
      "[799]\tvalidation_0-logloss:0.47519\n",
      "[800]\tvalidation_0-logloss:0.47509\n",
      "[801]\tvalidation_0-logloss:0.47499\n",
      "[802]\tvalidation_0-logloss:0.47486\n",
      "[803]\tvalidation_0-logloss:0.47476\n",
      "[804]\tvalidation_0-logloss:0.47466\n",
      "[805]\tvalidation_0-logloss:0.47455\n",
      "[806]\tvalidation_0-logloss:0.47445\n",
      "[807]\tvalidation_0-logloss:0.47436\n",
      "[808]\tvalidation_0-logloss:0.47425\n",
      "[809]\tvalidation_0-logloss:0.47415\n",
      "[810]\tvalidation_0-logloss:0.47404\n",
      "[811]\tvalidation_0-logloss:0.47394\n",
      "[812]\tvalidation_0-logloss:0.47384\n",
      "[813]\tvalidation_0-logloss:0.47374\n",
      "[814]\tvalidation_0-logloss:0.47364\n",
      "[815]\tvalidation_0-logloss:0.47351\n",
      "[816]\tvalidation_0-logloss:0.47341\n",
      "[817]\tvalidation_0-logloss:0.47330\n",
      "[818]\tvalidation_0-logloss:0.47320\n",
      "[819]\tvalidation_0-logloss:0.47310\n",
      "[820]\tvalidation_0-logloss:0.47301\n",
      "[821]\tvalidation_0-logloss:0.47291\n",
      "[822]\tvalidation_0-logloss:0.47280\n",
      "[823]\tvalidation_0-logloss:0.47271\n",
      "[824]\tvalidation_0-logloss:0.47261\n",
      "[825]\tvalidation_0-logloss:0.47252\n",
      "[826]\tvalidation_0-logloss:0.47240\n",
      "[827]\tvalidation_0-logloss:0.47230\n",
      "[828]\tvalidation_0-logloss:0.47219\n",
      "[829]\tvalidation_0-logloss:0.47208\n",
      "[830]\tvalidation_0-logloss:0.47198\n",
      "[831]\tvalidation_0-logloss:0.47189\n",
      "[832]\tvalidation_0-logloss:0.47179\n",
      "[833]\tvalidation_0-logloss:0.47168\n",
      "[834]\tvalidation_0-logloss:0.47157\n",
      "[835]\tvalidation_0-logloss:0.47148\n",
      "[836]\tvalidation_0-logloss:0.47139\n",
      "[837]\tvalidation_0-logloss:0.47129\n",
      "[838]\tvalidation_0-logloss:0.47118\n",
      "[839]\tvalidation_0-logloss:0.47108\n",
      "[840]\tvalidation_0-logloss:0.47098\n",
      "[841]\tvalidation_0-logloss:0.47089\n",
      "[842]\tvalidation_0-logloss:0.47080\n",
      "[843]\tvalidation_0-logloss:0.47068\n",
      "[844]\tvalidation_0-logloss:0.47058\n",
      "[845]\tvalidation_0-logloss:0.47048\n",
      "[846]\tvalidation_0-logloss:0.47039\n",
      "[847]\tvalidation_0-logloss:0.47028\n",
      "[848]\tvalidation_0-logloss:0.47018\n",
      "[849]\tvalidation_0-logloss:0.47009\n",
      "[850]\tvalidation_0-logloss:0.46998\n",
      "[851]\tvalidation_0-logloss:0.46988\n",
      "[852]\tvalidation_0-logloss:0.46980\n",
      "[853]\tvalidation_0-logloss:0.46970\n",
      "[854]\tvalidation_0-logloss:0.46960\n",
      "[855]\tvalidation_0-logloss:0.46950\n",
      "[856]\tvalidation_0-logloss:0.46939\n",
      "[857]\tvalidation_0-logloss:0.46929\n",
      "[858]\tvalidation_0-logloss:0.46921\n",
      "[859]\tvalidation_0-logloss:0.46910\n",
      "[860]\tvalidation_0-logloss:0.46900\n",
      "[861]\tvalidation_0-logloss:0.46892\n",
      "[862]\tvalidation_0-logloss:0.46881\n",
      "[863]\tvalidation_0-logloss:0.46871\n",
      "[864]\tvalidation_0-logloss:0.46862\n",
      "[865]\tvalidation_0-logloss:0.46853\n",
      "[866]\tvalidation_0-logloss:0.46843\n",
      "[867]\tvalidation_0-logloss:0.46833\n",
      "[868]\tvalidation_0-logloss:0.46824\n",
      "[869]\tvalidation_0-logloss:0.46815\n",
      "[870]\tvalidation_0-logloss:0.46804\n",
      "[871]\tvalidation_0-logloss:0.46794\n",
      "[872]\tvalidation_0-logloss:0.46784\n",
      "[873]\tvalidation_0-logloss:0.46774\n",
      "[874]\tvalidation_0-logloss:0.46765\n",
      "[875]\tvalidation_0-logloss:0.46755\n",
      "[876]\tvalidation_0-logloss:0.46745\n",
      "[877]\tvalidation_0-logloss:0.46736\n",
      "[878]\tvalidation_0-logloss:0.46727\n",
      "[879]\tvalidation_0-logloss:0.46718\n",
      "[880]\tvalidation_0-logloss:0.46708\n",
      "[881]\tvalidation_0-logloss:0.46699\n",
      "[882]\tvalidation_0-logloss:0.46691\n",
      "[883]\tvalidation_0-logloss:0.46681\n",
      "[884]\tvalidation_0-logloss:0.46672\n",
      "[885]\tvalidation_0-logloss:0.46662\n",
      "[886]\tvalidation_0-logloss:0.46652\n",
      "[887]\tvalidation_0-logloss:0.46643\n",
      "[888]\tvalidation_0-logloss:0.46634\n",
      "[889]\tvalidation_0-logloss:0.46624\n",
      "[890]\tvalidation_0-logloss:0.46615\n",
      "[891]\tvalidation_0-logloss:0.46606\n",
      "[892]\tvalidation_0-logloss:0.46596\n",
      "[893]\tvalidation_0-logloss:0.46586\n",
      "[894]\tvalidation_0-logloss:0.46577\n",
      "[895]\tvalidation_0-logloss:0.46568\n",
      "[896]\tvalidation_0-logloss:0.46559\n",
      "[897]\tvalidation_0-logloss:0.46552\n",
      "[898]\tvalidation_0-logloss:0.46542\n",
      "[899]\tvalidation_0-logloss:0.46533\n",
      "[900]\tvalidation_0-logloss:0.46524\n",
      "[901]\tvalidation_0-logloss:0.46515\n",
      "[902]\tvalidation_0-logloss:0.46505\n",
      "[903]\tvalidation_0-logloss:0.46496\n",
      "[904]\tvalidation_0-logloss:0.46487\n",
      "[905]\tvalidation_0-logloss:0.46478\n",
      "[906]\tvalidation_0-logloss:0.46470\n",
      "[907]\tvalidation_0-logloss:0.46460\n",
      "[908]\tvalidation_0-logloss:0.46451\n",
      "[909]\tvalidation_0-logloss:0.46441\n",
      "[910]\tvalidation_0-logloss:0.46433\n",
      "[911]\tvalidation_0-logloss:0.46424\n",
      "[912]\tvalidation_0-logloss:0.46416\n",
      "[913]\tvalidation_0-logloss:0.46406\n",
      "[914]\tvalidation_0-logloss:0.46397\n",
      "[915]\tvalidation_0-logloss:0.46388\n",
      "[916]\tvalidation_0-logloss:0.46380\n",
      "[917]\tvalidation_0-logloss:0.46370\n",
      "[918]\tvalidation_0-logloss:0.46361\n",
      "[919]\tvalidation_0-logloss:0.46352\n",
      "[920]\tvalidation_0-logloss:0.46345\n",
      "[921]\tvalidation_0-logloss:0.46334\n",
      "[922]\tvalidation_0-logloss:0.46327\n",
      "[923]\tvalidation_0-logloss:0.46318\n",
      "[924]\tvalidation_0-logloss:0.46309\n",
      "[925]\tvalidation_0-logloss:0.46301\n",
      "[926]\tvalidation_0-logloss:0.46292\n",
      "[927]\tvalidation_0-logloss:0.46284\n",
      "[928]\tvalidation_0-logloss:0.46274\n",
      "[929]\tvalidation_0-logloss:0.46265\n",
      "[930]\tvalidation_0-logloss:0.46255\n",
      "[931]\tvalidation_0-logloss:0.46248\n",
      "[932]\tvalidation_0-logloss:0.46238\n",
      "[933]\tvalidation_0-logloss:0.46230\n",
      "[934]\tvalidation_0-logloss:0.46221\n",
      "[935]\tvalidation_0-logloss:0.46212\n",
      "[936]\tvalidation_0-logloss:0.46203\n",
      "[937]\tvalidation_0-logloss:0.46195\n",
      "[938]\tvalidation_0-logloss:0.46185\n",
      "[939]\tvalidation_0-logloss:0.46177\n",
      "[940]\tvalidation_0-logloss:0.46169\n",
      "[941]\tvalidation_0-logloss:0.46159\n",
      "[942]\tvalidation_0-logloss:0.46150\n",
      "[943]\tvalidation_0-logloss:0.46140\n",
      "[944]\tvalidation_0-logloss:0.46131\n",
      "[945]\tvalidation_0-logloss:0.46123\n",
      "[946]\tvalidation_0-logloss:0.46114\n",
      "[947]\tvalidation_0-logloss:0.46105\n",
      "[948]\tvalidation_0-logloss:0.46098\n",
      "[949]\tvalidation_0-logloss:0.46089\n",
      "[950]\tvalidation_0-logloss:0.46080\n",
      "[951]\tvalidation_0-logloss:0.46071\n",
      "[952]\tvalidation_0-logloss:0.46062\n",
      "[953]\tvalidation_0-logloss:0.46053\n",
      "[954]\tvalidation_0-logloss:0.46045\n",
      "[955]\tvalidation_0-logloss:0.46036\n",
      "[956]\tvalidation_0-logloss:0.46028\n",
      "[957]\tvalidation_0-logloss:0.46020\n",
      "[958]\tvalidation_0-logloss:0.46011\n",
      "[959]\tvalidation_0-logloss:0.46004\n",
      "[960]\tvalidation_0-logloss:0.45995\n",
      "[961]\tvalidation_0-logloss:0.45985\n",
      "[962]\tvalidation_0-logloss:0.45976\n",
      "[963]\tvalidation_0-logloss:0.45969\n",
      "[964]\tvalidation_0-logloss:0.45960\n",
      "[965]\tvalidation_0-logloss:0.45951\n",
      "[966]\tvalidation_0-logloss:0.45944\n",
      "[967]\tvalidation_0-logloss:0.45936\n",
      "[968]\tvalidation_0-logloss:0.45926\n",
      "[969]\tvalidation_0-logloss:0.45918\n",
      "[970]\tvalidation_0-logloss:0.45909\n",
      "[971]\tvalidation_0-logloss:0.45900\n",
      "[972]\tvalidation_0-logloss:0.45892\n",
      "[973]\tvalidation_0-logloss:0.45884\n",
      "[974]\tvalidation_0-logloss:0.45874\n",
      "[975]\tvalidation_0-logloss:0.45866\n",
      "[976]\tvalidation_0-logloss:0.45858\n",
      "[977]\tvalidation_0-logloss:0.45850\n",
      "[978]\tvalidation_0-logloss:0.45842\n",
      "[979]\tvalidation_0-logloss:0.45834\n",
      "[980]\tvalidation_0-logloss:0.45826\n",
      "[981]\tvalidation_0-logloss:0.45817\n",
      "[982]\tvalidation_0-logloss:0.45808\n",
      "[983]\tvalidation_0-logloss:0.45799\n",
      "[984]\tvalidation_0-logloss:0.45791\n",
      "[985]\tvalidation_0-logloss:0.45782\n",
      "[986]\tvalidation_0-logloss:0.45772\n",
      "[987]\tvalidation_0-logloss:0.45764\n"
     ]
    },
    {
     "name": "stdout",
     "output_type": "stream",
     "text": [
      "[988]\tvalidation_0-logloss:0.45756\n",
      "[989]\tvalidation_0-logloss:0.45747\n",
      "[990]\tvalidation_0-logloss:0.45739\n",
      "[991]\tvalidation_0-logloss:0.45730\n",
      "[992]\tvalidation_0-logloss:0.45722\n",
      "[993]\tvalidation_0-logloss:0.45713\n",
      "[994]\tvalidation_0-logloss:0.45704\n",
      "[995]\tvalidation_0-logloss:0.45697\n",
      "[996]\tvalidation_0-logloss:0.45689\n",
      "[997]\tvalidation_0-logloss:0.45679\n",
      "[998]\tvalidation_0-logloss:0.45670\n",
      "[999]\tvalidation_0-logloss:0.45663\n"
     ]
    },
    {
     "data": {
      "text/html": [
       "<style>#sk-container-id-1 {\n",
       "  /* Definition of color scheme common for light and dark mode */\n",
       "  --sklearn-color-text: black;\n",
       "  --sklearn-color-line: gray;\n",
       "  /* Definition of color scheme for unfitted estimators */\n",
       "  --sklearn-color-unfitted-level-0: #fff5e6;\n",
       "  --sklearn-color-unfitted-level-1: #f6e4d2;\n",
       "  --sklearn-color-unfitted-level-2: #ffe0b3;\n",
       "  --sklearn-color-unfitted-level-3: chocolate;\n",
       "  /* Definition of color scheme for fitted estimators */\n",
       "  --sklearn-color-fitted-level-0: #f0f8ff;\n",
       "  --sklearn-color-fitted-level-1: #d4ebff;\n",
       "  --sklearn-color-fitted-level-2: #b3dbfd;\n",
       "  --sklearn-color-fitted-level-3: cornflowerblue;\n",
       "\n",
       "  /* Specific color for light theme */\n",
       "  --sklearn-color-text-on-default-background: var(--sg-text-color, var(--theme-code-foreground, var(--jp-content-font-color1, black)));\n",
       "  --sklearn-color-background: var(--sg-background-color, var(--theme-background, var(--jp-layout-color0, white)));\n",
       "  --sklearn-color-border-box: var(--sg-text-color, var(--theme-code-foreground, var(--jp-content-font-color1, black)));\n",
       "  --sklearn-color-icon: #696969;\n",
       "\n",
       "  @media (prefers-color-scheme: dark) {\n",
       "    /* Redefinition of color scheme for dark theme */\n",
       "    --sklearn-color-text-on-default-background: var(--sg-text-color, var(--theme-code-foreground, var(--jp-content-font-color1, white)));\n",
       "    --sklearn-color-background: var(--sg-background-color, var(--theme-background, var(--jp-layout-color0, #111)));\n",
       "    --sklearn-color-border-box: var(--sg-text-color, var(--theme-code-foreground, var(--jp-content-font-color1, white)));\n",
       "    --sklearn-color-icon: #878787;\n",
       "  }\n",
       "}\n",
       "\n",
       "#sk-container-id-1 {\n",
       "  color: var(--sklearn-color-text);\n",
       "}\n",
       "\n",
       "#sk-container-id-1 pre {\n",
       "  padding: 0;\n",
       "}\n",
       "\n",
       "#sk-container-id-1 input.sk-hidden--visually {\n",
       "  border: 0;\n",
       "  clip: rect(1px 1px 1px 1px);\n",
       "  clip: rect(1px, 1px, 1px, 1px);\n",
       "  height: 1px;\n",
       "  margin: -1px;\n",
       "  overflow: hidden;\n",
       "  padding: 0;\n",
       "  position: absolute;\n",
       "  width: 1px;\n",
       "}\n",
       "\n",
       "#sk-container-id-1 div.sk-dashed-wrapped {\n",
       "  border: 1px dashed var(--sklearn-color-line);\n",
       "  margin: 0 0.4em 0.5em 0.4em;\n",
       "  box-sizing: border-box;\n",
       "  padding-bottom: 0.4em;\n",
       "  background-color: var(--sklearn-color-background);\n",
       "}\n",
       "\n",
       "#sk-container-id-1 div.sk-container {\n",
       "  /* jupyter's `normalize.less` sets `[hidden] { display: none; }`\n",
       "     but bootstrap.min.css set `[hidden] { display: none !important; }`\n",
       "     so we also need the `!important` here to be able to override the\n",
       "     default hidden behavior on the sphinx rendered scikit-learn.org.\n",
       "     See: https://github.com/scikit-learn/scikit-learn/issues/21755 */\n",
       "  display: inline-block !important;\n",
       "  position: relative;\n",
       "}\n",
       "\n",
       "#sk-container-id-1 div.sk-text-repr-fallback {\n",
       "  display: none;\n",
       "}\n",
       "\n",
       "div.sk-parallel-item,\n",
       "div.sk-serial,\n",
       "div.sk-item {\n",
       "  /* draw centered vertical line to link estimators */\n",
       "  background-image: linear-gradient(var(--sklearn-color-text-on-default-background), var(--sklearn-color-text-on-default-background));\n",
       "  background-size: 2px 100%;\n",
       "  background-repeat: no-repeat;\n",
       "  background-position: center center;\n",
       "}\n",
       "\n",
       "/* Parallel-specific style estimator block */\n",
       "\n",
       "#sk-container-id-1 div.sk-parallel-item::after {\n",
       "  content: \"\";\n",
       "  width: 100%;\n",
       "  border-bottom: 2px solid var(--sklearn-color-text-on-default-background);\n",
       "  flex-grow: 1;\n",
       "}\n",
       "\n",
       "#sk-container-id-1 div.sk-parallel {\n",
       "  display: flex;\n",
       "  align-items: stretch;\n",
       "  justify-content: center;\n",
       "  background-color: var(--sklearn-color-background);\n",
       "  position: relative;\n",
       "}\n",
       "\n",
       "#sk-container-id-1 div.sk-parallel-item {\n",
       "  display: flex;\n",
       "  flex-direction: column;\n",
       "}\n",
       "\n",
       "#sk-container-id-1 div.sk-parallel-item:first-child::after {\n",
       "  align-self: flex-end;\n",
       "  width: 50%;\n",
       "}\n",
       "\n",
       "#sk-container-id-1 div.sk-parallel-item:last-child::after {\n",
       "  align-self: flex-start;\n",
       "  width: 50%;\n",
       "}\n",
       "\n",
       "#sk-container-id-1 div.sk-parallel-item:only-child::after {\n",
       "  width: 0;\n",
       "}\n",
       "\n",
       "/* Serial-specific style estimator block */\n",
       "\n",
       "#sk-container-id-1 div.sk-serial {\n",
       "  display: flex;\n",
       "  flex-direction: column;\n",
       "  align-items: center;\n",
       "  background-color: var(--sklearn-color-background);\n",
       "  padding-right: 1em;\n",
       "  padding-left: 1em;\n",
       "}\n",
       "\n",
       "\n",
       "/* Toggleable style: style used for estimator/Pipeline/ColumnTransformer box that is\n",
       "clickable and can be expanded/collapsed.\n",
       "- Pipeline and ColumnTransformer use this feature and define the default style\n",
       "- Estimators will overwrite some part of the style using the `sk-estimator` class\n",
       "*/\n",
       "\n",
       "/* Pipeline and ColumnTransformer style (default) */\n",
       "\n",
       "#sk-container-id-1 div.sk-toggleable {\n",
       "  /* Default theme specific background. It is overwritten whether we have a\n",
       "  specific estimator or a Pipeline/ColumnTransformer */\n",
       "  background-color: var(--sklearn-color-background);\n",
       "}\n",
       "\n",
       "/* Toggleable label */\n",
       "#sk-container-id-1 label.sk-toggleable__label {\n",
       "  cursor: pointer;\n",
       "  display: block;\n",
       "  width: 100%;\n",
       "  margin-bottom: 0;\n",
       "  padding: 0.5em;\n",
       "  box-sizing: border-box;\n",
       "  text-align: center;\n",
       "}\n",
       "\n",
       "#sk-container-id-1 label.sk-toggleable__label-arrow:before {\n",
       "  /* Arrow on the left of the label */\n",
       "  content: \"▸\";\n",
       "  float: left;\n",
       "  margin-right: 0.25em;\n",
       "  color: var(--sklearn-color-icon);\n",
       "}\n",
       "\n",
       "#sk-container-id-1 label.sk-toggleable__label-arrow:hover:before {\n",
       "  color: var(--sklearn-color-text);\n",
       "}\n",
       "\n",
       "/* Toggleable content - dropdown */\n",
       "\n",
       "#sk-container-id-1 div.sk-toggleable__content {\n",
       "  max-height: 0;\n",
       "  max-width: 0;\n",
       "  overflow: hidden;\n",
       "  text-align: left;\n",
       "  /* unfitted */\n",
       "  background-color: var(--sklearn-color-unfitted-level-0);\n",
       "}\n",
       "\n",
       "#sk-container-id-1 div.sk-toggleable__content.fitted {\n",
       "  /* fitted */\n",
       "  background-color: var(--sklearn-color-fitted-level-0);\n",
       "}\n",
       "\n",
       "#sk-container-id-1 div.sk-toggleable__content pre {\n",
       "  margin: 0.2em;\n",
       "  border-radius: 0.25em;\n",
       "  color: var(--sklearn-color-text);\n",
       "  /* unfitted */\n",
       "  background-color: var(--sklearn-color-unfitted-level-0);\n",
       "}\n",
       "\n",
       "#sk-container-id-1 div.sk-toggleable__content.fitted pre {\n",
       "  /* unfitted */\n",
       "  background-color: var(--sklearn-color-fitted-level-0);\n",
       "}\n",
       "\n",
       "#sk-container-id-1 input.sk-toggleable__control:checked~div.sk-toggleable__content {\n",
       "  /* Expand drop-down */\n",
       "  max-height: 200px;\n",
       "  max-width: 100%;\n",
       "  overflow: auto;\n",
       "}\n",
       "\n",
       "#sk-container-id-1 input.sk-toggleable__control:checked~label.sk-toggleable__label-arrow:before {\n",
       "  content: \"▾\";\n",
       "}\n",
       "\n",
       "/* Pipeline/ColumnTransformer-specific style */\n",
       "\n",
       "#sk-container-id-1 div.sk-label input.sk-toggleable__control:checked~label.sk-toggleable__label {\n",
       "  color: var(--sklearn-color-text);\n",
       "  background-color: var(--sklearn-color-unfitted-level-2);\n",
       "}\n",
       "\n",
       "#sk-container-id-1 div.sk-label.fitted input.sk-toggleable__control:checked~label.sk-toggleable__label {\n",
       "  background-color: var(--sklearn-color-fitted-level-2);\n",
       "}\n",
       "\n",
       "/* Estimator-specific style */\n",
       "\n",
       "/* Colorize estimator box */\n",
       "#sk-container-id-1 div.sk-estimator input.sk-toggleable__control:checked~label.sk-toggleable__label {\n",
       "  /* unfitted */\n",
       "  background-color: var(--sklearn-color-unfitted-level-2);\n",
       "}\n",
       "\n",
       "#sk-container-id-1 div.sk-estimator.fitted input.sk-toggleable__control:checked~label.sk-toggleable__label {\n",
       "  /* fitted */\n",
       "  background-color: var(--sklearn-color-fitted-level-2);\n",
       "}\n",
       "\n",
       "#sk-container-id-1 div.sk-label label.sk-toggleable__label,\n",
       "#sk-container-id-1 div.sk-label label {\n",
       "  /* The background is the default theme color */\n",
       "  color: var(--sklearn-color-text-on-default-background);\n",
       "}\n",
       "\n",
       "/* On hover, darken the color of the background */\n",
       "#sk-container-id-1 div.sk-label:hover label.sk-toggleable__label {\n",
       "  color: var(--sklearn-color-text);\n",
       "  background-color: var(--sklearn-color-unfitted-level-2);\n",
       "}\n",
       "\n",
       "/* Label box, darken color on hover, fitted */\n",
       "#sk-container-id-1 div.sk-label.fitted:hover label.sk-toggleable__label.fitted {\n",
       "  color: var(--sklearn-color-text);\n",
       "  background-color: var(--sklearn-color-fitted-level-2);\n",
       "}\n",
       "\n",
       "/* Estimator label */\n",
       "\n",
       "#sk-container-id-1 div.sk-label label {\n",
       "  font-family: monospace;\n",
       "  font-weight: bold;\n",
       "  display: inline-block;\n",
       "  line-height: 1.2em;\n",
       "}\n",
       "\n",
       "#sk-container-id-1 div.sk-label-container {\n",
       "  text-align: center;\n",
       "}\n",
       "\n",
       "/* Estimator-specific */\n",
       "#sk-container-id-1 div.sk-estimator {\n",
       "  font-family: monospace;\n",
       "  border: 1px dotted var(--sklearn-color-border-box);\n",
       "  border-radius: 0.25em;\n",
       "  box-sizing: border-box;\n",
       "  margin-bottom: 0.5em;\n",
       "  /* unfitted */\n",
       "  background-color: var(--sklearn-color-unfitted-level-0);\n",
       "}\n",
       "\n",
       "#sk-container-id-1 div.sk-estimator.fitted {\n",
       "  /* fitted */\n",
       "  background-color: var(--sklearn-color-fitted-level-0);\n",
       "}\n",
       "\n",
       "/* on hover */\n",
       "#sk-container-id-1 div.sk-estimator:hover {\n",
       "  /* unfitted */\n",
       "  background-color: var(--sklearn-color-unfitted-level-2);\n",
       "}\n",
       "\n",
       "#sk-container-id-1 div.sk-estimator.fitted:hover {\n",
       "  /* fitted */\n",
       "  background-color: var(--sklearn-color-fitted-level-2);\n",
       "}\n",
       "\n",
       "/* Specification for estimator info (e.g. \"i\" and \"?\") */\n",
       "\n",
       "/* Common style for \"i\" and \"?\" */\n",
       "\n",
       ".sk-estimator-doc-link,\n",
       "a:link.sk-estimator-doc-link,\n",
       "a:visited.sk-estimator-doc-link {\n",
       "  float: right;\n",
       "  font-size: smaller;\n",
       "  line-height: 1em;\n",
       "  font-family: monospace;\n",
       "  background-color: var(--sklearn-color-background);\n",
       "  border-radius: 1em;\n",
       "  height: 1em;\n",
       "  width: 1em;\n",
       "  text-decoration: none !important;\n",
       "  margin-left: 1ex;\n",
       "  /* unfitted */\n",
       "  border: var(--sklearn-color-unfitted-level-1) 1pt solid;\n",
       "  color: var(--sklearn-color-unfitted-level-1);\n",
       "}\n",
       "\n",
       ".sk-estimator-doc-link.fitted,\n",
       "a:link.sk-estimator-doc-link.fitted,\n",
       "a:visited.sk-estimator-doc-link.fitted {\n",
       "  /* fitted */\n",
       "  border: var(--sklearn-color-fitted-level-1) 1pt solid;\n",
       "  color: var(--sklearn-color-fitted-level-1);\n",
       "}\n",
       "\n",
       "/* On hover */\n",
       "div.sk-estimator:hover .sk-estimator-doc-link:hover,\n",
       ".sk-estimator-doc-link:hover,\n",
       "div.sk-label-container:hover .sk-estimator-doc-link:hover,\n",
       ".sk-estimator-doc-link:hover {\n",
       "  /* unfitted */\n",
       "  background-color: var(--sklearn-color-unfitted-level-3);\n",
       "  color: var(--sklearn-color-background);\n",
       "  text-decoration: none;\n",
       "}\n",
       "\n",
       "div.sk-estimator.fitted:hover .sk-estimator-doc-link.fitted:hover,\n",
       ".sk-estimator-doc-link.fitted:hover,\n",
       "div.sk-label-container:hover .sk-estimator-doc-link.fitted:hover,\n",
       ".sk-estimator-doc-link.fitted:hover {\n",
       "  /* fitted */\n",
       "  background-color: var(--sklearn-color-fitted-level-3);\n",
       "  color: var(--sklearn-color-background);\n",
       "  text-decoration: none;\n",
       "}\n",
       "\n",
       "/* Span, style for the box shown on hovering the info icon */\n",
       ".sk-estimator-doc-link span {\n",
       "  display: none;\n",
       "  z-index: 9999;\n",
       "  position: relative;\n",
       "  font-weight: normal;\n",
       "  right: .2ex;\n",
       "  padding: .5ex;\n",
       "  margin: .5ex;\n",
       "  width: min-content;\n",
       "  min-width: 20ex;\n",
       "  max-width: 50ex;\n",
       "  color: var(--sklearn-color-text);\n",
       "  box-shadow: 2pt 2pt 4pt #999;\n",
       "  /* unfitted */\n",
       "  background: var(--sklearn-color-unfitted-level-0);\n",
       "  border: .5pt solid var(--sklearn-color-unfitted-level-3);\n",
       "}\n",
       "\n",
       ".sk-estimator-doc-link.fitted span {\n",
       "  /* fitted */\n",
       "  background: var(--sklearn-color-fitted-level-0);\n",
       "  border: var(--sklearn-color-fitted-level-3);\n",
       "}\n",
       "\n",
       ".sk-estimator-doc-link:hover span {\n",
       "  display: block;\n",
       "}\n",
       "\n",
       "/* \"?\"-specific style due to the `<a>` HTML tag */\n",
       "\n",
       "#sk-container-id-1 a.estimator_doc_link {\n",
       "  float: right;\n",
       "  font-size: 1rem;\n",
       "  line-height: 1em;\n",
       "  font-family: monospace;\n",
       "  background-color: var(--sklearn-color-background);\n",
       "  border-radius: 1rem;\n",
       "  height: 1rem;\n",
       "  width: 1rem;\n",
       "  text-decoration: none;\n",
       "  /* unfitted */\n",
       "  color: var(--sklearn-color-unfitted-level-1);\n",
       "  border: var(--sklearn-color-unfitted-level-1) 1pt solid;\n",
       "}\n",
       "\n",
       "#sk-container-id-1 a.estimator_doc_link.fitted {\n",
       "  /* fitted */\n",
       "  border: var(--sklearn-color-fitted-level-1) 1pt solid;\n",
       "  color: var(--sklearn-color-fitted-level-1);\n",
       "}\n",
       "\n",
       "/* On hover */\n",
       "#sk-container-id-1 a.estimator_doc_link:hover {\n",
       "  /* unfitted */\n",
       "  background-color: var(--sklearn-color-unfitted-level-3);\n",
       "  color: var(--sklearn-color-background);\n",
       "  text-decoration: none;\n",
       "}\n",
       "\n",
       "#sk-container-id-1 a.estimator_doc_link.fitted:hover {\n",
       "  /* fitted */\n",
       "  background-color: var(--sklearn-color-fitted-level-3);\n",
       "}\n",
       "</style><div id=\"sk-container-id-1\" class=\"sk-top-container\"><div class=\"sk-text-repr-fallback\"><pre>XGBClassifier(base_score=None, booster=None, callbacks=None,\n",
       "              colsample_bylevel=None, colsample_bynode=None,\n",
       "              colsample_bytree=None, device=None, early_stopping_rounds=None,\n",
       "              enable_categorical=False, eval_metric=None, feature_types=None,\n",
       "              gamma=None, grow_policy=None, importance_type=None,\n",
       "              interaction_constraints=None, learning_rate=0.001, max_bin=None,\n",
       "              max_cat_threshold=None, max_cat_to_onehot=None,\n",
       "              max_delta_step=None, max_depth=7, max_leaves=None,\n",
       "              min_child_weight=None, missing=nan, monotone_constraints=None,\n",
       "              multi_strategy=None, n_estimators=1000, n_jobs=None,\n",
       "              num_parallel_tree=None, random_state=42, ...)</pre><b>In a Jupyter environment, please rerun this cell to show the HTML representation or trust the notebook. <br />On GitHub, the HTML representation is unable to render, please try loading this page with nbviewer.org.</b></div><div class=\"sk-container\" hidden><div class=\"sk-item\"><div class=\"sk-estimator fitted sk-toggleable\"><input class=\"sk-toggleable__control sk-hidden--visually\" id=\"sk-estimator-id-1\" type=\"checkbox\" checked><label for=\"sk-estimator-id-1\" class=\"sk-toggleable__label fitted sk-toggleable__label-arrow fitted\">&nbsp;XGBClassifier<span class=\"sk-estimator-doc-link fitted\">i<span>Fitted</span></span></label><div class=\"sk-toggleable__content fitted\"><pre>XGBClassifier(base_score=None, booster=None, callbacks=None,\n",
       "              colsample_bylevel=None, colsample_bynode=None,\n",
       "              colsample_bytree=None, device=None, early_stopping_rounds=None,\n",
       "              enable_categorical=False, eval_metric=None, feature_types=None,\n",
       "              gamma=None, grow_policy=None, importance_type=None,\n",
       "              interaction_constraints=None, learning_rate=0.001, max_bin=None,\n",
       "              max_cat_threshold=None, max_cat_to_onehot=None,\n",
       "              max_delta_step=None, max_depth=7, max_leaves=None,\n",
       "              min_child_weight=None, missing=nan, monotone_constraints=None,\n",
       "              multi_strategy=None, n_estimators=1000, n_jobs=None,\n",
       "              num_parallel_tree=None, random_state=42, ...)</pre></div> </div></div></div></div>"
      ],
      "text/plain": [
       "XGBClassifier(base_score=None, booster=None, callbacks=None,\n",
       "              colsample_bylevel=None, colsample_bynode=None,\n",
       "              colsample_bytree=None, device=None, early_stopping_rounds=None,\n",
       "              enable_categorical=False, eval_metric=None, feature_types=None,\n",
       "              gamma=None, grow_policy=None, importance_type=None,\n",
       "              interaction_constraints=None, learning_rate=0.001, max_bin=None,\n",
       "              max_cat_threshold=None, max_cat_to_onehot=None,\n",
       "              max_delta_step=None, max_depth=7, max_leaves=None,\n",
       "              min_child_weight=None, missing=nan, monotone_constraints=None,\n",
       "              multi_strategy=None, n_estimators=1000, n_jobs=None,\n",
       "              num_parallel_tree=None, random_state=42, ...)"
      ]
     },
     "execution_count": 36,
     "metadata": {},
     "output_type": "execute_result"
    }
   ],
   "source": [
    "xg=xgb.XGBClassifier(objective=\"binary:logistic\",random_state=42,n_estimators=1000, learning_rate=0.001, max_depth=7)\n",
    "xg.fit(X_train, y_train,early_stopping_rounds=100, eval_set=[(X_test, y_test)])"
   ]
  },
  {
   "cell_type": "code",
   "execution_count": 37,
   "metadata": {
    "execution": {
     "iopub.execute_input": "2023-12-23T18:30:46.866777Z",
     "iopub.status.busy": "2023-12-23T18:30:46.866391Z",
     "iopub.status.idle": "2023-12-23T18:30:46.898246Z",
     "shell.execute_reply": "2023-12-23T18:30:46.896987Z",
     "shell.execute_reply.started": "2023-12-23T18:30:46.866744Z"
    }
   },
   "outputs": [
    {
     "data": {
      "text/plain": [
       "0.8735955056179775"
      ]
     },
     "execution_count": 37,
     "metadata": {},
     "output_type": "execute_result"
    }
   ],
   "source": [
    "xg.score(X_train, y_train)"
   ]
  },
  {
   "cell_type": "code",
   "execution_count": 38,
   "metadata": {
    "execution": {
     "iopub.execute_input": "2023-12-23T18:30:46.900363Z",
     "iopub.status.busy": "2023-12-23T18:30:46.899962Z",
     "iopub.status.idle": "2023-12-23T18:30:46.913282Z",
     "shell.execute_reply": "2023-12-23T18:30:46.912005Z",
     "shell.execute_reply.started": "2023-12-23T18:30:46.90033Z"
    }
   },
   "outputs": [],
   "source": [
    "ypred=xg.predict(X_test)"
   ]
  },
  {
   "cell_type": "code",
   "execution_count": 39,
   "metadata": {
    "execution": {
     "iopub.execute_input": "2023-12-23T18:30:46.916196Z",
     "iopub.status.busy": "2023-12-23T18:30:46.915035Z",
     "iopub.status.idle": "2023-12-23T18:30:46.923817Z",
     "shell.execute_reply": "2023-12-23T18:30:46.922381Z",
     "shell.execute_reply.started": "2023-12-23T18:30:46.916145Z"
    }
   },
   "outputs": [
    {
     "name": "stdout",
     "output_type": "stream",
     "text": [
      "0.8324022346368715\n"
     ]
    }
   ],
   "source": [
    "print(accuracy_score(y_test,ypred))"
   ]
  },
  {
   "cell_type": "code",
   "execution_count": 40,
   "metadata": {
    "execution": {
     "iopub.execute_input": "2023-12-23T18:30:46.926055Z",
     "iopub.status.busy": "2023-12-23T18:30:46.925589Z",
     "iopub.status.idle": "2023-12-23T18:30:47.287575Z",
     "shell.execute_reply": "2023-12-23T18:30:47.286184Z",
     "shell.execute_reply.started": "2023-12-23T18:30:46.926012Z"
    }
   },
   "outputs": [
    {
     "name": "stdout",
     "output_type": "stream",
     "text": [
      "[[98  7]\n",
      " [23 51]]\n"
     ]
    },
    {
     "data": {
      "image/png": "[encoded data removed]",
      "text/plain": [
       "<Figure size 640x480 with 2 Axes>"
      ]
     },
     "metadata": {},
     "output_type": "display_data"
    }
   ],
   "source": [
    "from sklearn.metrics import ConfusionMatrixDisplay\n",
    "ConfusionMatrixDisplay.from_predictions(y_test, ypred,cmap=\"magma\")\n",
    "print(confusion_matrix(y_test, ypred))"
   ]
  }
 ],
 "metadata": {
  "kaggle": {
   "accelerator": "none",
   "dataSources": [
    {
     "datasetId": 1818188,
     "sourceId": 2965537,
     "sourceType": "datasetVersion"
    }
   ],
   "dockerImageVersionId": 30626,
   "isGpuEnabled": false,
   "isInternetEnabled": false,
   "language": "python",
   "sourceType": "notebook"
  },
  "kernelspec": {
   "display_name": "Python 3 (ipykernel)",
   "language": "python",
   "name": "python3"
  },
  "language_info": {
   "codemirror_mode": {
    "name": "ipython",
    "version": 3
   },
   "file_extension": ".py",
   "mimetype": "text/x-python",
   "name": "python",
   "nbconvert_exporter": "python",
   "pygments_lexer": "ipython3",
   "version": "3.11.5"
  }
 },
 "nbformat": 4,
 "nbformat_minor": 4
}
